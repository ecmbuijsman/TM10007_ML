{
 "cells": [
  {
   "cell_type": "markdown",
   "metadata": {
    "colab_type": "text",
    "id": "7SXpaKwwGe5x"
   },
   "source": [
    "# TM10007 Assignment template"
   ]
  },
  {
   "cell_type": "code",
   "execution_count": 19,
   "metadata": {
    "colab": {
     "base_uri": "https://localhost:8080/",
     "height": 69
    },
    "colab_type": "code",
    "id": "CiDn2Sk-VWqE",
    "outputId": "64224cd2-6054-4b04-a3f6-af8290400dfc"
   },
   "outputs": [],
   "source": [
    "# Run this to use from colab environment\n",
    "#!pip install -q --upgrade git+https://github.com/jveenland/tm10007_ml.git"
   ]
  },
  {
   "cell_type": "markdown",
   "metadata": {},
   "source": [
    "## Data loading and cleaning\n",
    "\n",
    "Below are functions to load the dataset of your choice. After that, it is all up to you to create and evaluate a classification method. Beware, there may be missing values in these datasets. Good luck!"
   ]
  },
  {
   "cell_type": "code",
   "execution_count": 20,
   "metadata": {
    "colab": {},
    "colab_type": "code",
    "id": "-NE_fTbKGe5z"
   },
   "outputs": [
    {
     "name": "stdout",
     "output_type": "stream",
     "text": [
      "The number of samples: 246\n",
      "The number of columns: 494\n"
     ]
    }
   ],
   "source": [
    "# Data loading functions. Uncomment the one you want to use\n",
    "from worcgist.load_data import load_data\n",
    "\n",
    "data = load_data()\n",
    "print(f'The number of samples: {len(data.index)}')\n",
    "print(f'The number of columns: {len(data.columns)}')\n"
   ]
  },
  {
   "attachments": {},
   "cell_type": "markdown",
   "metadata": {},
   "source": [
    "## Data orientation\n",
    "\n",
    "Looking at the features, labels and values."
   ]
  },
  {
   "cell_type": "code",
   "execution_count": 21,
   "metadata": {},
   "outputs": [
    {
     "data": {
      "text/html": [
       "<div>\n",
       "<style scoped>\n",
       "    .dataframe tbody tr th:only-of-type {\n",
       "        vertical-align: middle;\n",
       "    }\n",
       "\n",
       "    .dataframe tbody tr th {\n",
       "        vertical-align: top;\n",
       "    }\n",
       "\n",
       "    .dataframe thead th {\n",
       "        text-align: right;\n",
       "    }\n",
       "</style>\n",
       "<table border=\"1\" class=\"dataframe\">\n",
       "  <thead>\n",
       "    <tr style=\"text-align: right;\">\n",
       "      <th></th>\n",
       "      <th>label</th>\n",
       "      <th>PREDICT_original_sf_compactness_avg_2.5D</th>\n",
       "      <th>PREDICT_original_sf_compactness_std_2.5D</th>\n",
       "      <th>PREDICT_original_sf_rad_dist_avg_2.5D</th>\n",
       "      <th>PREDICT_original_sf_rad_dist_std_2.5D</th>\n",
       "      <th>PREDICT_original_sf_roughness_avg_2.5D</th>\n",
       "      <th>PREDICT_original_sf_roughness_std_2.5D</th>\n",
       "      <th>PREDICT_original_sf_convexity_avg_2.5D</th>\n",
       "      <th>PREDICT_original_sf_convexity_std_2.5D</th>\n",
       "      <th>PREDICT_original_sf_cvar_avg_2.5D</th>\n",
       "      <th>...</th>\n",
       "      <th>PREDICT_original_phasef_phasesym_median_WL3_N5</th>\n",
       "      <th>PREDICT_original_phasef_phasesym_std_WL3_N5</th>\n",
       "      <th>PREDICT_original_phasef_phasesym_skewness_WL3_N5</th>\n",
       "      <th>PREDICT_original_phasef_phasesym_kurtosis_WL3_N5</th>\n",
       "      <th>PREDICT_original_phasef_phasesym_peak_WL3_N5</th>\n",
       "      <th>PREDICT_original_phasef_phasesym_peak_position_WL3_N5</th>\n",
       "      <th>PREDICT_original_phasef_phasesym_range_WL3_N5</th>\n",
       "      <th>PREDICT_original_phasef_phasesym_energy_WL3_N5</th>\n",
       "      <th>PREDICT_original_phasef_phasesym_quartile_range_WL3_N5</th>\n",
       "      <th>PREDICT_original_phasef_phasesym_entropy_WL3_N5</th>\n",
       "    </tr>\n",
       "    <tr>\n",
       "      <th>ID</th>\n",
       "      <th></th>\n",
       "      <th></th>\n",
       "      <th></th>\n",
       "      <th></th>\n",
       "      <th></th>\n",
       "      <th></th>\n",
       "      <th></th>\n",
       "      <th></th>\n",
       "      <th></th>\n",
       "      <th></th>\n",
       "      <th></th>\n",
       "      <th></th>\n",
       "      <th></th>\n",
       "      <th></th>\n",
       "      <th></th>\n",
       "      <th></th>\n",
       "      <th></th>\n",
       "      <th></th>\n",
       "      <th></th>\n",
       "      <th></th>\n",
       "      <th></th>\n",
       "    </tr>\n",
       "  </thead>\n",
       "  <tbody>\n",
       "    <tr>\n",
       "      <th>GIST-001_0</th>\n",
       "      <td>GIST</td>\n",
       "      <td>0.797427</td>\n",
       "      <td>0.120594</td>\n",
       "      <td>80.192445</td>\n",
       "      <td>9.445741</td>\n",
       "      <td>7.102210</td>\n",
       "      <td>3.876595</td>\n",
       "      <td>0.927623</td>\n",
       "      <td>0.081385</td>\n",
       "      <td>0.015227</td>\n",
       "      <td>...</td>\n",
       "      <td>0.0</td>\n",
       "      <td>0.032461</td>\n",
       "      <td>7.353902</td>\n",
       "      <td>63.183181</td>\n",
       "      <td>0.0</td>\n",
       "      <td>0</td>\n",
       "      <td>0.123189</td>\n",
       "      <td>1591.133826</td>\n",
       "      <td>0.0</td>\n",
       "      <td>15.687095</td>\n",
       "    </tr>\n",
       "    <tr>\n",
       "      <th>GIST-002_0</th>\n",
       "      <td>non-GIST</td>\n",
       "      <td>0.896991</td>\n",
       "      <td>0.045854</td>\n",
       "      <td>35.323607</td>\n",
       "      <td>2.781343</td>\n",
       "      <td>5.339906</td>\n",
       "      <td>1.923100</td>\n",
       "      <td>0.975762</td>\n",
       "      <td>0.017550</td>\n",
       "      <td>0.009118</td>\n",
       "      <td>...</td>\n",
       "      <td>0.0</td>\n",
       "      <td>0.043431</td>\n",
       "      <td>6.452863</td>\n",
       "      <td>52.634005</td>\n",
       "      <td>0.0</td>\n",
       "      <td>0</td>\n",
       "      <td>0.172040</td>\n",
       "      <td>220.543010</td>\n",
       "      <td>0.0</td>\n",
       "      <td>12.664845</td>\n",
       "    </tr>\n",
       "    <tr>\n",
       "      <th>GIST-003_0</th>\n",
       "      <td>GIST</td>\n",
       "      <td>0.893238</td>\n",
       "      <td>0.051894</td>\n",
       "      <td>17.582541</td>\n",
       "      <td>1.864908</td>\n",
       "      <td>7.622507</td>\n",
       "      <td>1.039745</td>\n",
       "      <td>0.979608</td>\n",
       "      <td>0.017926</td>\n",
       "      <td>0.013258</td>\n",
       "      <td>...</td>\n",
       "      <td>0.0</td>\n",
       "      <td>0.068175</td>\n",
       "      <td>3.849719</td>\n",
       "      <td>16.277217</td>\n",
       "      <td>0.0</td>\n",
       "      <td>0</td>\n",
       "      <td>0.286710</td>\n",
       "      <td>62.150817</td>\n",
       "      <td>0.0</td>\n",
       "      <td>10.432943</td>\n",
       "    </tr>\n",
       "    <tr>\n",
       "      <th>GIST-004_0</th>\n",
       "      <td>non-GIST</td>\n",
       "      <td>0.914027</td>\n",
       "      <td>0.032078</td>\n",
       "      <td>21.951056</td>\n",
       "      <td>2.188093</td>\n",
       "      <td>4.757274</td>\n",
       "      <td>1.786309</td>\n",
       "      <td>0.981125</td>\n",
       "      <td>0.013734</td>\n",
       "      <td>0.011338</td>\n",
       "      <td>...</td>\n",
       "      <td>0.0</td>\n",
       "      <td>0.044148</td>\n",
       "      <td>5.725807</td>\n",
       "      <td>38.600415</td>\n",
       "      <td>0.0</td>\n",
       "      <td>0</td>\n",
       "      <td>0.182812</td>\n",
       "      <td>39.375540</td>\n",
       "      <td>0.0</td>\n",
       "      <td>10.194878</td>\n",
       "    </tr>\n",
       "    <tr>\n",
       "      <th>GIST-005_0</th>\n",
       "      <td>non-GIST</td>\n",
       "      <td>0.659747</td>\n",
       "      <td>0.266226</td>\n",
       "      <td>20.801224</td>\n",
       "      <td>4.025831</td>\n",
       "      <td>14.404912</td>\n",
       "      <td>7.695865</td>\n",
       "      <td>0.865275</td>\n",
       "      <td>0.171213</td>\n",
       "      <td>0.048078</td>\n",
       "      <td>...</td>\n",
       "      <td>0.0</td>\n",
       "      <td>0.043369</td>\n",
       "      <td>4.546357</td>\n",
       "      <td>23.831176</td>\n",
       "      <td>0.0</td>\n",
       "      <td>0</td>\n",
       "      <td>0.183349</td>\n",
       "      <td>24.192700</td>\n",
       "      <td>0.0</td>\n",
       "      <td>10.066832</td>\n",
       "    </tr>\n",
       "  </tbody>\n",
       "</table>\n",
       "<p>5 rows × 494 columns</p>\n",
       "</div>"
      ],
      "text/plain": [
       "               label  PREDICT_original_sf_compactness_avg_2.5D  \\\n",
       "ID                                                               \n",
       "GIST-001_0      GIST                                  0.797427   \n",
       "GIST-002_0  non-GIST                                  0.896991   \n",
       "GIST-003_0      GIST                                  0.893238   \n",
       "GIST-004_0  non-GIST                                  0.914027   \n",
       "GIST-005_0  non-GIST                                  0.659747   \n",
       "\n",
       "            PREDICT_original_sf_compactness_std_2.5D  \\\n",
       "ID                                                     \n",
       "GIST-001_0                                  0.120594   \n",
       "GIST-002_0                                  0.045854   \n",
       "GIST-003_0                                  0.051894   \n",
       "GIST-004_0                                  0.032078   \n",
       "GIST-005_0                                  0.266226   \n",
       "\n",
       "            PREDICT_original_sf_rad_dist_avg_2.5D  \\\n",
       "ID                                                  \n",
       "GIST-001_0                              80.192445   \n",
       "GIST-002_0                              35.323607   \n",
       "GIST-003_0                              17.582541   \n",
       "GIST-004_0                              21.951056   \n",
       "GIST-005_0                              20.801224   \n",
       "\n",
       "            PREDICT_original_sf_rad_dist_std_2.5D  \\\n",
       "ID                                                  \n",
       "GIST-001_0                               9.445741   \n",
       "GIST-002_0                               2.781343   \n",
       "GIST-003_0                               1.864908   \n",
       "GIST-004_0                               2.188093   \n",
       "GIST-005_0                               4.025831   \n",
       "\n",
       "            PREDICT_original_sf_roughness_avg_2.5D  \\\n",
       "ID                                                   \n",
       "GIST-001_0                                7.102210   \n",
       "GIST-002_0                                5.339906   \n",
       "GIST-003_0                                7.622507   \n",
       "GIST-004_0                                4.757274   \n",
       "GIST-005_0                               14.404912   \n",
       "\n",
       "            PREDICT_original_sf_roughness_std_2.5D  \\\n",
       "ID                                                   \n",
       "GIST-001_0                                3.876595   \n",
       "GIST-002_0                                1.923100   \n",
       "GIST-003_0                                1.039745   \n",
       "GIST-004_0                                1.786309   \n",
       "GIST-005_0                                7.695865   \n",
       "\n",
       "            PREDICT_original_sf_convexity_avg_2.5D  \\\n",
       "ID                                                   \n",
       "GIST-001_0                                0.927623   \n",
       "GIST-002_0                                0.975762   \n",
       "GIST-003_0                                0.979608   \n",
       "GIST-004_0                                0.981125   \n",
       "GIST-005_0                                0.865275   \n",
       "\n",
       "            PREDICT_original_sf_convexity_std_2.5D  \\\n",
       "ID                                                   \n",
       "GIST-001_0                                0.081385   \n",
       "GIST-002_0                                0.017550   \n",
       "GIST-003_0                                0.017926   \n",
       "GIST-004_0                                0.013734   \n",
       "GIST-005_0                                0.171213   \n",
       "\n",
       "            PREDICT_original_sf_cvar_avg_2.5D  ...  \\\n",
       "ID                                             ...   \n",
       "GIST-001_0                           0.015227  ...   \n",
       "GIST-002_0                           0.009118  ...   \n",
       "GIST-003_0                           0.013258  ...   \n",
       "GIST-004_0                           0.011338  ...   \n",
       "GIST-005_0                           0.048078  ...   \n",
       "\n",
       "            PREDICT_original_phasef_phasesym_median_WL3_N5  \\\n",
       "ID                                                           \n",
       "GIST-001_0                                             0.0   \n",
       "GIST-002_0                                             0.0   \n",
       "GIST-003_0                                             0.0   \n",
       "GIST-004_0                                             0.0   \n",
       "GIST-005_0                                             0.0   \n",
       "\n",
       "            PREDICT_original_phasef_phasesym_std_WL3_N5  \\\n",
       "ID                                                        \n",
       "GIST-001_0                                     0.032461   \n",
       "GIST-002_0                                     0.043431   \n",
       "GIST-003_0                                     0.068175   \n",
       "GIST-004_0                                     0.044148   \n",
       "GIST-005_0                                     0.043369   \n",
       "\n",
       "            PREDICT_original_phasef_phasesym_skewness_WL3_N5  \\\n",
       "ID                                                             \n",
       "GIST-001_0                                          7.353902   \n",
       "GIST-002_0                                          6.452863   \n",
       "GIST-003_0                                          3.849719   \n",
       "GIST-004_0                                          5.725807   \n",
       "GIST-005_0                                          4.546357   \n",
       "\n",
       "            PREDICT_original_phasef_phasesym_kurtosis_WL3_N5  \\\n",
       "ID                                                             \n",
       "GIST-001_0                                         63.183181   \n",
       "GIST-002_0                                         52.634005   \n",
       "GIST-003_0                                         16.277217   \n",
       "GIST-004_0                                         38.600415   \n",
       "GIST-005_0                                         23.831176   \n",
       "\n",
       "            PREDICT_original_phasef_phasesym_peak_WL3_N5  \\\n",
       "ID                                                         \n",
       "GIST-001_0                                           0.0   \n",
       "GIST-002_0                                           0.0   \n",
       "GIST-003_0                                           0.0   \n",
       "GIST-004_0                                           0.0   \n",
       "GIST-005_0                                           0.0   \n",
       "\n",
       "            PREDICT_original_phasef_phasesym_peak_position_WL3_N5  \\\n",
       "ID                                                                  \n",
       "GIST-001_0                                                  0       \n",
       "GIST-002_0                                                  0       \n",
       "GIST-003_0                                                  0       \n",
       "GIST-004_0                                                  0       \n",
       "GIST-005_0                                                  0       \n",
       "\n",
       "            PREDICT_original_phasef_phasesym_range_WL3_N5  \\\n",
       "ID                                                          \n",
       "GIST-001_0                                       0.123189   \n",
       "GIST-002_0                                       0.172040   \n",
       "GIST-003_0                                       0.286710   \n",
       "GIST-004_0                                       0.182812   \n",
       "GIST-005_0                                       0.183349   \n",
       "\n",
       "            PREDICT_original_phasef_phasesym_energy_WL3_N5  \\\n",
       "ID                                                           \n",
       "GIST-001_0                                     1591.133826   \n",
       "GIST-002_0                                      220.543010   \n",
       "GIST-003_0                                       62.150817   \n",
       "GIST-004_0                                       39.375540   \n",
       "GIST-005_0                                       24.192700   \n",
       "\n",
       "            PREDICT_original_phasef_phasesym_quartile_range_WL3_N5  \\\n",
       "ID                                                                   \n",
       "GIST-001_0                                                0.0        \n",
       "GIST-002_0                                                0.0        \n",
       "GIST-003_0                                                0.0        \n",
       "GIST-004_0                                                0.0        \n",
       "GIST-005_0                                                0.0        \n",
       "\n",
       "            PREDICT_original_phasef_phasesym_entropy_WL3_N5  \n",
       "ID                                                           \n",
       "GIST-001_0                                        15.687095  \n",
       "GIST-002_0                                        12.664845  \n",
       "GIST-003_0                                        10.432943  \n",
       "GIST-004_0                                        10.194878  \n",
       "GIST-005_0                                        10.066832  \n",
       "\n",
       "[5 rows x 494 columns]"
      ]
     },
     "execution_count": 21,
     "metadata": {},
     "output_type": "execute_result"
    }
   ],
   "source": [
    "data.head()"
   ]
  },
  {
   "cell_type": "code",
   "execution_count": 22,
   "metadata": {},
   "outputs": [
    {
     "data": {
      "text/plain": [
       "label                                                      object\n",
       "PREDICT_original_sf_compactness_avg_2.5D                  float64\n",
       "PREDICT_original_sf_compactness_std_2.5D                  float64\n",
       "PREDICT_original_sf_rad_dist_avg_2.5D                     float64\n",
       "PREDICT_original_sf_rad_dist_std_2.5D                     float64\n",
       "                                                           ...   \n",
       "PREDICT_original_phasef_phasesym_peak_position_WL3_N5       int64\n",
       "PREDICT_original_phasef_phasesym_range_WL3_N5             float64\n",
       "PREDICT_original_phasef_phasesym_energy_WL3_N5            float64\n",
       "PREDICT_original_phasef_phasesym_quartile_range_WL3_N5    float64\n",
       "PREDICT_original_phasef_phasesym_entropy_WL3_N5           float64\n",
       "Length: 494, dtype: object"
      ]
     },
     "execution_count": 22,
     "metadata": {},
     "output_type": "execute_result"
    }
   ],
   "source": [
    "data.dtypes"
   ]
  },
  {
   "cell_type": "code",
   "execution_count": 5,
   "metadata": {},
   "outputs": [
    {
     "data": {
      "text/plain": [
       "Index(['label', 'PREDICT_original_sf_compactness_avg_2.5D',\n",
       "       'PREDICT_original_sf_compactness_std_2.5D',\n",
       "       'PREDICT_original_sf_rad_dist_avg_2.5D',\n",
       "       'PREDICT_original_sf_rad_dist_std_2.5D',\n",
       "       'PREDICT_original_sf_roughness_avg_2.5D',\n",
       "       'PREDICT_original_sf_roughness_std_2.5D',\n",
       "       'PREDICT_original_sf_convexity_avg_2.5D',\n",
       "       'PREDICT_original_sf_convexity_std_2.5D',\n",
       "       'PREDICT_original_sf_cvar_avg_2.5D',\n",
       "       ...\n",
       "       'PREDICT_original_phasef_phasesym_median_WL3_N5',\n",
       "       'PREDICT_original_phasef_phasesym_std_WL3_N5',\n",
       "       'PREDICT_original_phasef_phasesym_skewness_WL3_N5',\n",
       "       'PREDICT_original_phasef_phasesym_kurtosis_WL3_N5',\n",
       "       'PREDICT_original_phasef_phasesym_peak_WL3_N5',\n",
       "       'PREDICT_original_phasef_phasesym_peak_position_WL3_N5',\n",
       "       'PREDICT_original_phasef_phasesym_range_WL3_N5',\n",
       "       'PREDICT_original_phasef_phasesym_energy_WL3_N5',\n",
       "       'PREDICT_original_phasef_phasesym_quartile_range_WL3_N5',\n",
       "       'PREDICT_original_phasef_phasesym_entropy_WL3_N5'],\n",
       "      dtype='object', length=494)"
      ]
     },
     "execution_count": 5,
     "metadata": {},
     "output_type": "execute_result"
    }
   ],
   "source": [
    "data.columns"
   ]
  },
  {
   "cell_type": "code",
   "execution_count": 23,
   "metadata": {},
   "outputs": [
    {
     "name": "stdout",
     "output_type": "stream",
     "text": [
      "The amount of samples in the dataset is 246\n",
      "The amount of features in the dataset is 494\n",
      "The amount of missing data in the dataset is 0\n",
      "The amount of gists in the dataset is 125\n",
      "The amount of non-gists in the dataset is 121\n"
     ]
    }
   ],
   "source": [
    "#Amount of samples\n",
    "print(\"The amount of samples in the dataset is\", len(data))\n",
    "\n",
    "#Amount of features\n",
    "print(\"The amount of features in the dataset is\", len(data.columns))\n",
    "\n",
    "#Amount of missing data\n",
    "print(\"The amount of missing data in the dataset is\", sum(data.isnull().sum()))\n",
    "\n",
    "#Amount of GIST\n",
    "print(\"The amount of gists in the dataset is\", len(data[data.label=='GIST']))\n",
    "#Amount of non-GIST\n",
    "print(\"The amount of non-gists in the dataset is\", len(data[data.label=='non-GIST']))"
   ]
  },
  {
   "attachments": {},
   "cell_type": "markdown",
   "metadata": {},
   "source": [
    "## Missing data"
   ]
  },
  {
   "cell_type": "code",
   "execution_count": 26,
   "metadata": {},
   "outputs": [
    {
     "data": {
      "text/plain": [
       "label                                                     0\n",
       "PREDICT_original_sf_compactness_avg_2.5D                  0\n",
       "PREDICT_original_sf_compactness_std_2.5D                  0\n",
       "PREDICT_original_sf_rad_dist_avg_2.5D                     0\n",
       "PREDICT_original_sf_rad_dist_std_2.5D                     0\n",
       "                                                         ..\n",
       "PREDICT_original_phasef_phasesym_peak_position_WL3_N5     0\n",
       "PREDICT_original_phasef_phasesym_range_WL3_N5             0\n",
       "PREDICT_original_phasef_phasesym_energy_WL3_N5            0\n",
       "PREDICT_original_phasef_phasesym_quartile_range_WL3_N5    0\n",
       "PREDICT_original_phasef_phasesym_entropy_WL3_N5           0\n",
       "Length: 494, dtype: int64"
      ]
     },
     "execution_count": 26,
     "metadata": {},
     "output_type": "execute_result"
    }
   ],
   "source": [
    "#check if there are any missing\n",
    "data.isnull().values.any()\n",
    "\n",
    "#how many missings are there and in what columns?\n",
    "data.isnull().sum()"
   ]
  },
  {
   "attachments": {},
   "cell_type": "markdown",
   "metadata": {},
   "source": [
    "# Test & Train split"
   ]
  },
  {
   "cell_type": "code",
   "execution_count": 27,
   "metadata": {},
   "outputs": [],
   "source": [
    "#split data in features and label\n",
    "y = data['label']\n",
    "X = data.drop(['label'], axis=1)\n",
    "\n",
    "\n",
    "from sklearn.model_selection import train_test_split\n",
    "X_train, X_test, y_train, y_test = train_test_split(X, y, test_size=0.2, random_state=1)"
   ]
  },
  {
   "attachments": {},
   "cell_type": "markdown",
   "metadata": {},
   "source": [
    "# Feature normalization"
   ]
  },
  {
   "attachments": {},
   "cell_type": "markdown",
   "metadata": {},
   "source": [
    "De meest standaard scaling gekozen van: https://scikit-learn.org/stable/modules/preprocessing.html"
   ]
  },
  {
   "cell_type": "code",
   "execution_count": 28,
   "metadata": {},
   "outputs": [],
   "source": [
    "from sklearn import preprocessing\n",
    "\n",
    "X_train_scaled = preprocessing.StandardScaler().fit_transform(X_train)"
   ]
  },
  {
   "attachments": {},
   "cell_type": "markdown",
   "metadata": {},
   "source": [
    "# Feature selection\n",
    "## Removing features with low variance"
   ]
  },
  {
   "cell_type": "code",
   "execution_count": 10,
   "metadata": {},
   "outputs": [
    {
     "data": {
      "text/plain": [
       "array([[-1.17608232,  2.83958564,  0.64833893, ...,  0.58798237,\n",
       "        -0.36417837,  1.32229703],\n",
       "       [ 0.49347027, -0.53945932,  0.8201891 , ...,  0.18061697,\n",
       "        -0.36417837,  1.11564879],\n",
       "       [-0.80253627,  1.57235364,  1.45048308, ..., -0.24681107,\n",
       "        -0.36417837,  0.57233173],\n",
       "       ...,\n",
       "       [ 0.44808211, -0.50067421,  0.72377283, ...,  0.09371332,\n",
       "        -0.36417837,  0.95556883],\n",
       "       [-0.88331702, -0.06633901,  0.16538468, ..., -0.1321743 ,\n",
       "        -0.36417837,  0.43597763],\n",
       "       [-1.32805174,  1.85142973,  0.75634146, ..., -0.31234196,\n",
       "        -0.36417837,  0.28900335]])"
      ]
     },
     "execution_count": 10,
     "metadata": {},
     "output_type": "execute_result"
    }
   ],
   "source": [
    "#from sklearn.feature_selection import VarianceThreshold\n",
    "#X_train_scaled_LV = VarianceThreshold(threshold=(.8 * (1 - .8)))\n",
    "#X_train_scaled_LV.fit_transform(X_train_scaled)"
   ]
  },
  {
   "attachments": {},
   "cell_type": "markdown",
   "metadata": {},
   "source": [
    "## Univariate feature selection"
   ]
  },
  {
   "cell_type": "code",
   "execution_count": 11,
   "metadata": {},
   "outputs": [
    {
     "name": "stderr",
     "output_type": "stream",
     "text": [
      "/Applications/miniconda3/lib/python3.8/site-packages/sklearn/feature_selection/_univariate_selection.py:112: UserWarning: Features [ 77  83  84  90  97 103 110 467 474 475 480 487 488] are constant.\n",
      "  warnings.warn(\"Features %s are constant.\" % constant_features_idx, UserWarning)\n",
      "/Applications/miniconda3/lib/python3.8/site-packages/sklearn/feature_selection/_univariate_selection.py:113: RuntimeWarning: invalid value encountered in divide\n",
      "  f = msb / msw\n"
     ]
    }
   ],
   "source": [
    "##from sklearn.feature_selection import SelectKBest\n",
    "#from sklearn.feature_selection import f_classif\n",
    "\n",
    "#X_new = SelectKBest(f_classif, k=10).fit_transform(X_train_scaled, y_train)"
   ]
  },
  {
   "attachments": {},
   "cell_type": "markdown",
   "metadata": {},
   "source": [
    "## PCA\n",
    "\n",
    "We perform principal component analysis for 90% variance (0.9)."
   ]
  },
  {
   "cell_type": "code",
   "execution_count": 39,
   "metadata": {},
   "outputs": [
    {
     "name": "stdout",
     "output_type": "stream",
     "text": [
      "43\n",
      "2\n"
     ]
    },
    {
     "ename": "TypeError",
     "evalue": "'PCA' object is not subscriptable",
     "output_type": "error",
     "traceback": [
      "\u001b[0;31m---------------------------------------------------------------------------\u001b[0m",
      "\u001b[0;31mTypeError\u001b[0m                                 Traceback (most recent call last)",
      "Cell \u001b[0;32mIn[39], line 20\u001b[0m\n\u001b[1;32m     17\u001b[0m \u001b[39mimport\u001b[39;00m \u001b[39mseaborn\u001b[39;00m \u001b[39mas\u001b[39;00m \u001b[39msns\u001b[39;00m\n\u001b[1;32m     18\u001b[0m sns\u001b[39m.\u001b[39mset()\n\u001b[0;32m---> 20\u001b[0m sns\u001b[39m.\u001b[39;49mlmplot(\n\u001b[1;32m     21\u001b[0m     x\u001b[39m=\u001b[39;49m\u001b[39m'\u001b[39;49m\u001b[39mPC1\u001b[39;49m\u001b[39m'\u001b[39;49m, \n\u001b[1;32m     22\u001b[0m     y\u001b[39m=\u001b[39;49m\u001b[39m'\u001b[39;49m\u001b[39mPC2\u001b[39;49m\u001b[39m'\u001b[39;49m, \n\u001b[1;32m     23\u001b[0m     data\u001b[39m=\u001b[39;49mX_pca2, \n\u001b[1;32m     24\u001b[0m     hue\u001b[39m=\u001b[39;49m\u001b[39m'\u001b[39;49m\u001b[39mtarget\u001b[39;49m\u001b[39m'\u001b[39;49m, \n\u001b[1;32m     25\u001b[0m     fit_reg\u001b[39m=\u001b[39;49m\u001b[39mFalse\u001b[39;49;00m, \n\u001b[1;32m     26\u001b[0m     legend\u001b[39m=\u001b[39;49m\u001b[39mTrue\u001b[39;49;00m\n\u001b[1;32m     27\u001b[0m     )\n\u001b[1;32m     29\u001b[0m plt\u001b[39m.\u001b[39mtitle(\u001b[39m'\u001b[39m\u001b[39m2D PCA Graph\u001b[39m\u001b[39m'\u001b[39m)\n\u001b[1;32m     30\u001b[0m plt\u001b[39m.\u001b[39mshow()\n",
      "File \u001b[0;32m/Applications/miniconda3/lib/python3.8/site-packages/seaborn/regression.py:595\u001b[0m, in \u001b[0;36mlmplot\u001b[0;34m(data, x, y, hue, col, row, palette, col_wrap, height, aspect, markers, sharex, sharey, hue_order, col_order, row_order, legend, legend_out, x_estimator, x_bins, x_ci, scatter, fit_reg, ci, n_boot, units, seed, order, logistic, lowess, robust, logx, x_partial, y_partial, truncate, x_jitter, y_jitter, scatter_kws, line_kws, facet_kws)\u001b[0m\n\u001b[1;32m    593\u001b[0m need_cols \u001b[39m=\u001b[39m [x, y, hue, col, row, units, x_partial, y_partial]\n\u001b[1;32m    594\u001b[0m cols \u001b[39m=\u001b[39m np\u001b[39m.\u001b[39munique([a \u001b[39mfor\u001b[39;00m a \u001b[39min\u001b[39;00m need_cols \u001b[39mif\u001b[39;00m a \u001b[39mis\u001b[39;00m \u001b[39mnot\u001b[39;00m \u001b[39mNone\u001b[39;00m])\u001b[39m.\u001b[39mtolist()\n\u001b[0;32m--> 595\u001b[0m data \u001b[39m=\u001b[39m data[cols]\n\u001b[1;32m    597\u001b[0m \u001b[39m# Initialize the grid\u001b[39;00m\n\u001b[1;32m    598\u001b[0m facets \u001b[39m=\u001b[39m FacetGrid(\n\u001b[1;32m    599\u001b[0m     data, row\u001b[39m=\u001b[39mrow, col\u001b[39m=\u001b[39mcol, hue\u001b[39m=\u001b[39mhue,\n\u001b[1;32m    600\u001b[0m     palette\u001b[39m=\u001b[39mpalette,\n\u001b[0;32m   (...)\u001b[0m\n\u001b[1;32m    603\u001b[0m     \u001b[39m*\u001b[39m\u001b[39m*\u001b[39mfacet_kws,\n\u001b[1;32m    604\u001b[0m )\n",
      "\u001b[0;31mTypeError\u001b[0m: 'PCA' object is not subscriptable"
     ]
    }
   ],
   "source": [
    "from sklearn.decomposition import PCA\n",
    "import matplotlib.pyplot as plt\n",
    "import pandas as pd\n",
    "\n",
    "pca = PCA(0.9) #explain 90% variance\n",
    "X_pca = pca.fit(X_train_scaled) # of fit_transform\n",
    "print(X_pca.n_components_) # no. components\n",
    "\n",
    "train_pca = X_pca.transform(X_train_scaled)\n",
    "# test_pca = X_pca.transform(X_test_scaled)\n",
    "\n",
    "pca2 = PCA(n_components=2) #explain 90% variance\n",
    "X_pca2 = pca2.fit(X_train_scaled) # of fit_transform\n",
    "print(X_pca2.n_components_) # no. components\n",
    "\n",
    "import matplotlib.pyplot as plt \n",
    "import seaborn as sns\n",
    "sns.set()\n",
    " \n",
    "sns.lmplot(\n",
    "    x='PC1', \n",
    "    y='PC2', \n",
    "    data=X_pca2, \n",
    "    hue='target', \n",
    "    fit_reg=False, \n",
    "    legend=True\n",
    "    )\n",
    " \n",
    "plt.title('2D PCA Graph')\n",
    "plt.show()"
   ]
  },
  {
   "attachments": {},
   "cell_type": "markdown",
   "metadata": {},
   "source": [
    "# Models"
   ]
  },
  {
   "attachments": {},
   "cell_type": "markdown",
   "metadata": {},
   "source": [
    "## Linear SVC"
   ]
  },
  {
   "cell_type": "code",
   "execution_count": 16,
   "metadata": {},
   "outputs": [],
   "source": [
    "#Import svm model\n",
    "from sklearn import svm\n",
    "\n",
    "#Create a svm Classifier\n",
    "clf = svm.SVC(kernel='linear') # Linear Kernel\n",
    "\n",
    "#Train the model using the training sets\n",
    "clf.fit(X_train, y_train)\n",
    "\n",
    "#Predict the response for test dataset\n",
    "y_pred = clf.predict(X_test)"
   ]
  },
  {
   "cell_type": "code",
   "execution_count": null,
   "metadata": {},
   "outputs": [],
   "source": [
    "#Import scikit-learn metrics module for accuracy calculation\n",
    "from sklearn import metrics\n",
    "\n",
    "# Model Accuracy: how often is the classifier correct?\n",
    "print(\"Accuracy:\",metrics.accuracy_score(y_test, y_pred))"
   ]
  },
  {
   "attachments": {},
   "cell_type": "markdown",
   "metadata": {},
   "source": [
    "# RF"
   ]
  },
  {
   "cell_type": "code",
   "execution_count": 13,
   "metadata": {},
   "outputs": [
    {
     "name": "stderr",
     "output_type": "stream",
     "text": [
      "/Applications/miniconda3/lib/python3.8/site-packages/sklearn/model_selection/_search.py:305: UserWarning: The total space of parameters 180 is smaller than n_iter=500. Running 180 iterations. For exhaustive searches, use GridSearchCV.\n",
      "  warnings.warn(\n"
     ]
    },
    {
     "name": "stdout",
     "output_type": "stream",
     "text": [
      "Best hyperparameters are: {'n_estimators': 100, 'min_samples_split': 10, 'min_samples_leaf': 4, 'max_depth': 10}\n",
      "Best score is: 0.5667443667443667\n"
     ]
    }
   ],
   "source": [
    "from sklearn.model_selection import RandomizedSearchCV\n",
    "from sklearn.ensemble import RandomForestClassifier\n",
    "\n",
    "# Create the random grid\n",
    "random_grid = {'n_estimators': [100,500,1000,2000],\n",
    "               'max_depth': [10,30,50,80,100],\n",
    "               'min_samples_split': [2, 5, 10],\n",
    "               'min_samples_leaf': [1, 2, 4]\n",
    "               }\n",
    "\n",
    "rf = RandomForestClassifier()\n",
    "rf_random = RandomizedSearchCV(rf, random_grid, n_iter=500, scoring='accuracy', n_jobs=-1, cv=3)\n",
    "model_random = rf_random.fit(train_pca,y_train)\n",
    "\n",
    "print('Best hyperparameters are: '+str(model_random.best_params_))\n",
    "print('Best score is: '+str(model_random.best_score_))"
   ]
  },
  {
   "cell_type": "code",
   "execution_count": 17,
   "metadata": {},
   "outputs": [
    {
     "ename": "ValueError",
     "evalue": "could not convert string to float: 'GIST'",
     "output_type": "error",
     "traceback": [
      "\u001b[0;31m---------------------------------------------------------------------------\u001b[0m",
      "\u001b[0;31mValueError\u001b[0m                                Traceback (most recent call last)",
      "Cell \u001b[0;32mIn[17], line 3\u001b[0m\n\u001b[1;32m      1\u001b[0m rf_pca_tuning \u001b[39m=\u001b[39m RandomForestClassifier(n_estimators \u001b[39m=\u001b[39m \u001b[39m1000\u001b[39m,max_depth\u001b[39m=\u001b[39m \u001b[39m100\u001b[39m, min_samples_leaf\u001b[39m=\u001b[39m\u001b[39m2\u001b[39m,min_samples_split\u001b[39m=\u001b[39m \u001b[39m2\u001b[39m, random_state \u001b[39m=\u001b[39m \u001b[39m0\u001b[39m)\n\u001b[1;32m      2\u001b[0m rf_pca_tuning\u001b[39m.\u001b[39mfit(train_pca, y_train)\n\u001b[0;32m----> 3\u001b[0m pca_tune_prediction \u001b[39m=\u001b[39m rf_pca_tuning\u001b[39m.\u001b[39;49mpredict(y_test)\n\u001b[1;32m      4\u001b[0m accuracy_score(y_test,pca_tune_prediction)\n",
      "File \u001b[0;32m/Applications/miniconda3/lib/python3.8/site-packages/sklearn/ensemble/_forest.py:820\u001b[0m, in \u001b[0;36mForestClassifier.predict\u001b[0;34m(self, X)\u001b[0m\n\u001b[1;32m    799\u001b[0m \u001b[39mdef\u001b[39;00m \u001b[39mpredict\u001b[39m(\u001b[39mself\u001b[39m, X):\n\u001b[1;32m    800\u001b[0m \u001b[39m    \u001b[39m\u001b[39m\"\"\"\u001b[39;00m\n\u001b[1;32m    801\u001b[0m \u001b[39m    Predict class for X.\u001b[39;00m\n\u001b[1;32m    802\u001b[0m \n\u001b[0;32m   (...)\u001b[0m\n\u001b[1;32m    818\u001b[0m \u001b[39m        The predicted classes.\u001b[39;00m\n\u001b[1;32m    819\u001b[0m \u001b[39m    \"\"\"\u001b[39;00m\n\u001b[0;32m--> 820\u001b[0m     proba \u001b[39m=\u001b[39m \u001b[39mself\u001b[39;49m\u001b[39m.\u001b[39;49mpredict_proba(X)\n\u001b[1;32m    822\u001b[0m     \u001b[39mif\u001b[39;00m \u001b[39mself\u001b[39m\u001b[39m.\u001b[39mn_outputs_ \u001b[39m==\u001b[39m \u001b[39m1\u001b[39m:\n\u001b[1;32m    823\u001b[0m         \u001b[39mreturn\u001b[39;00m \u001b[39mself\u001b[39m\u001b[39m.\u001b[39mclasses_\u001b[39m.\u001b[39mtake(np\u001b[39m.\u001b[39margmax(proba, axis\u001b[39m=\u001b[39m\u001b[39m1\u001b[39m), axis\u001b[39m=\u001b[39m\u001b[39m0\u001b[39m)\n",
      "File \u001b[0;32m/Applications/miniconda3/lib/python3.8/site-packages/sklearn/ensemble/_forest.py:862\u001b[0m, in \u001b[0;36mForestClassifier.predict_proba\u001b[0;34m(self, X)\u001b[0m\n\u001b[1;32m    860\u001b[0m check_is_fitted(\u001b[39mself\u001b[39m)\n\u001b[1;32m    861\u001b[0m \u001b[39m# Check data\u001b[39;00m\n\u001b[0;32m--> 862\u001b[0m X \u001b[39m=\u001b[39m \u001b[39mself\u001b[39;49m\u001b[39m.\u001b[39;49m_validate_X_predict(X)\n\u001b[1;32m    864\u001b[0m \u001b[39m# Assign chunk of trees to jobs\u001b[39;00m\n\u001b[1;32m    865\u001b[0m n_jobs, _, _ \u001b[39m=\u001b[39m _partition_estimators(\u001b[39mself\u001b[39m\u001b[39m.\u001b[39mn_estimators, \u001b[39mself\u001b[39m\u001b[39m.\u001b[39mn_jobs)\n",
      "File \u001b[0;32m/Applications/miniconda3/lib/python3.8/site-packages/sklearn/ensemble/_forest.py:602\u001b[0m, in \u001b[0;36mBaseForest._validate_X_predict\u001b[0;34m(self, X)\u001b[0m\n\u001b[1;32m    599\u001b[0m \u001b[39m\u001b[39m\u001b[39m\"\"\"\u001b[39;00m\n\u001b[1;32m    600\u001b[0m \u001b[39mValidate X whenever one tries to predict, apply, predict_proba.\"\"\"\u001b[39;00m\n\u001b[1;32m    601\u001b[0m check_is_fitted(\u001b[39mself\u001b[39m)\n\u001b[0;32m--> 602\u001b[0m X \u001b[39m=\u001b[39m \u001b[39mself\u001b[39;49m\u001b[39m.\u001b[39;49m_validate_data(X, dtype\u001b[39m=\u001b[39;49mDTYPE, accept_sparse\u001b[39m=\u001b[39;49m\u001b[39m\"\u001b[39;49m\u001b[39mcsr\u001b[39;49m\u001b[39m\"\u001b[39;49m, reset\u001b[39m=\u001b[39;49m\u001b[39mFalse\u001b[39;49;00m)\n\u001b[1;32m    603\u001b[0m \u001b[39mif\u001b[39;00m issparse(X) \u001b[39mand\u001b[39;00m (X\u001b[39m.\u001b[39mindices\u001b[39m.\u001b[39mdtype \u001b[39m!=\u001b[39m np\u001b[39m.\u001b[39mintc \u001b[39mor\u001b[39;00m X\u001b[39m.\u001b[39mindptr\u001b[39m.\u001b[39mdtype \u001b[39m!=\u001b[39m np\u001b[39m.\u001b[39mintc):\n\u001b[1;32m    604\u001b[0m     \u001b[39mraise\u001b[39;00m \u001b[39mValueError\u001b[39;00m(\u001b[39m\"\u001b[39m\u001b[39mNo support for np.int64 index based sparse matrices\u001b[39m\u001b[39m\"\u001b[39m)\n",
      "File \u001b[0;32m/Applications/miniconda3/lib/python3.8/site-packages/sklearn/base.py:565\u001b[0m, in \u001b[0;36mBaseEstimator._validate_data\u001b[0;34m(self, X, y, reset, validate_separately, **check_params)\u001b[0m\n\u001b[1;32m    563\u001b[0m     \u001b[39mraise\u001b[39;00m \u001b[39mValueError\u001b[39;00m(\u001b[39m\"\u001b[39m\u001b[39mValidation should be done on X, y or both.\u001b[39m\u001b[39m\"\u001b[39m)\n\u001b[1;32m    564\u001b[0m \u001b[39melif\u001b[39;00m \u001b[39mnot\u001b[39;00m no_val_X \u001b[39mand\u001b[39;00m no_val_y:\n\u001b[0;32m--> 565\u001b[0m     X \u001b[39m=\u001b[39m check_array(X, input_name\u001b[39m=\u001b[39;49m\u001b[39m\"\u001b[39;49m\u001b[39mX\u001b[39;49m\u001b[39m\"\u001b[39;49m, \u001b[39m*\u001b[39;49m\u001b[39m*\u001b[39;49mcheck_params)\n\u001b[1;32m    566\u001b[0m     out \u001b[39m=\u001b[39m X\n\u001b[1;32m    567\u001b[0m \u001b[39melif\u001b[39;00m no_val_X \u001b[39mand\u001b[39;00m \u001b[39mnot\u001b[39;00m no_val_y:\n",
      "File \u001b[0;32m/Applications/miniconda3/lib/python3.8/site-packages/sklearn/utils/validation.py:879\u001b[0m, in \u001b[0;36mcheck_array\u001b[0;34m(array, accept_sparse, accept_large_sparse, dtype, order, copy, force_all_finite, ensure_2d, allow_nd, ensure_min_samples, ensure_min_features, estimator, input_name)\u001b[0m\n\u001b[1;32m    877\u001b[0m         array \u001b[39m=\u001b[39m xp\u001b[39m.\u001b[39mastype(array, dtype, copy\u001b[39m=\u001b[39m\u001b[39mFalse\u001b[39;00m)\n\u001b[1;32m    878\u001b[0m     \u001b[39melse\u001b[39;00m:\n\u001b[0;32m--> 879\u001b[0m         array \u001b[39m=\u001b[39m _asarray_with_order(array, order\u001b[39m=\u001b[39;49morder, dtype\u001b[39m=\u001b[39;49mdtype, xp\u001b[39m=\u001b[39;49mxp)\n\u001b[1;32m    880\u001b[0m \u001b[39mexcept\u001b[39;00m ComplexWarning \u001b[39mas\u001b[39;00m complex_warning:\n\u001b[1;32m    881\u001b[0m     \u001b[39mraise\u001b[39;00m \u001b[39mValueError\u001b[39;00m(\n\u001b[1;32m    882\u001b[0m         \u001b[39m\"\u001b[39m\u001b[39mComplex data not supported\u001b[39m\u001b[39m\\n\u001b[39;00m\u001b[39m{}\u001b[39;00m\u001b[39m\\n\u001b[39;00m\u001b[39m\"\u001b[39m\u001b[39m.\u001b[39mformat(array)\n\u001b[1;32m    883\u001b[0m     ) \u001b[39mfrom\u001b[39;00m \u001b[39mcomplex_warning\u001b[39;00m\n",
      "File \u001b[0;32m/Applications/miniconda3/lib/python3.8/site-packages/sklearn/utils/_array_api.py:185\u001b[0m, in \u001b[0;36m_asarray_with_order\u001b[0;34m(array, dtype, order, copy, xp)\u001b[0m\n\u001b[1;32m    182\u001b[0m     xp, _ \u001b[39m=\u001b[39m get_namespace(array)\n\u001b[1;32m    183\u001b[0m \u001b[39mif\u001b[39;00m xp\u001b[39m.\u001b[39m\u001b[39m__name__\u001b[39m \u001b[39min\u001b[39;00m {\u001b[39m\"\u001b[39m\u001b[39mnumpy\u001b[39m\u001b[39m\"\u001b[39m, \u001b[39m\"\u001b[39m\u001b[39mnumpy.array_api\u001b[39m\u001b[39m\"\u001b[39m}:\n\u001b[1;32m    184\u001b[0m     \u001b[39m# Use NumPy API to support order\u001b[39;00m\n\u001b[0;32m--> 185\u001b[0m     array \u001b[39m=\u001b[39m numpy\u001b[39m.\u001b[39;49masarray(array, order\u001b[39m=\u001b[39;49morder, dtype\u001b[39m=\u001b[39;49mdtype)\n\u001b[1;32m    186\u001b[0m     \u001b[39mreturn\u001b[39;00m xp\u001b[39m.\u001b[39masarray(array, copy\u001b[39m=\u001b[39mcopy)\n\u001b[1;32m    187\u001b[0m \u001b[39melse\u001b[39;00m:\n",
      "File \u001b[0;32m/Applications/miniconda3/lib/python3.8/site-packages/pandas/core/series.py:893\u001b[0m, in \u001b[0;36mSeries.__array__\u001b[0;34m(self, dtype)\u001b[0m\n\u001b[1;32m    846\u001b[0m \u001b[39mdef\u001b[39;00m \u001b[39m__array__\u001b[39m(\u001b[39mself\u001b[39m, dtype: npt\u001b[39m.\u001b[39mDTypeLike \u001b[39m|\u001b[39m \u001b[39mNone\u001b[39;00m \u001b[39m=\u001b[39m \u001b[39mNone\u001b[39;00m) \u001b[39m-\u001b[39m\u001b[39m>\u001b[39m np\u001b[39m.\u001b[39mndarray:\n\u001b[1;32m    847\u001b[0m \u001b[39m    \u001b[39m\u001b[39m\"\"\"\u001b[39;00m\n\u001b[1;32m    848\u001b[0m \u001b[39m    Return the values as a NumPy array.\u001b[39;00m\n\u001b[1;32m    849\u001b[0m \n\u001b[0;32m   (...)\u001b[0m\n\u001b[1;32m    891\u001b[0m \u001b[39m          dtype='datetime64[ns]')\u001b[39;00m\n\u001b[1;32m    892\u001b[0m \u001b[39m    \"\"\"\u001b[39;00m\n\u001b[0;32m--> 893\u001b[0m     \u001b[39mreturn\u001b[39;00m np\u001b[39m.\u001b[39;49masarray(\u001b[39mself\u001b[39;49m\u001b[39m.\u001b[39;49m_values, dtype)\n",
      "\u001b[0;31mValueError\u001b[0m: could not convert string to float: 'GIST'"
     ]
    }
   ],
   "source": [
    "rf_pca_tuning = RandomForestClassifier(n_estimators = 1000,max_depth= 100, min_samples_leaf=2,min_samples_split= 2, random_state = 0)\n",
    "rf_pca_tuning.fit(train_pca, y_train)\n",
    "pca_tune_prediction = rf_pca_tuning.predict(y_test)\n",
    "accuracy_score(y_test,pca_tune_prediction)"
   ]
  }
 ],
 "metadata": {
  "colab": {
   "collapsed_sections": [],
   "name": "assignment.ipynb",
   "provenance": []
  },
  "kernelspec": {
   "display_name": "Python 3",
   "language": "python",
   "name": "python3"
  },
  "language_info": {
   "codemirror_mode": {
    "name": "ipython",
    "version": 3
   },
   "file_extension": ".py",
   "mimetype": "text/x-python",
   "name": "python",
   "nbconvert_exporter": "python",
   "pygments_lexer": "ipython3",
   "version": "3.8.16"
  }
 },
 "nbformat": 4,
 "nbformat_minor": 1
}
