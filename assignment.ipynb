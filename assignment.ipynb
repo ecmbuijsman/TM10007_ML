{
 "cells": [
  {
   "cell_type": "markdown",
   "metadata": {
    "colab_type": "text",
    "id": "7SXpaKwwGe5x"
   },
   "source": [
    "# TM10007 Assignment template"
   ]
  },
  {
   "cell_type": "code",
   "execution_count": 19,
   "metadata": {
    "colab": {
     "base_uri": "https://localhost:8080/",
     "height": 69
    },
    "colab_type": "code",
    "id": "CiDn2Sk-VWqE",
    "outputId": "64224cd2-6054-4b04-a3f6-af8290400dfc"
   },
   "outputs": [],
   "source": [
    "# Run this to use from colab environment\n",
    "#!pip install -q --upgrade git+https://github.com/jveenland/tm10007_ml.git"
   ]
  },
  {
   "cell_type": "markdown",
   "metadata": {},
   "source": [
    "## Data loading and cleaning\n",
    "\n",
    "Below are functions to load the dataset of your choice. After that, it is all up to you to create and evaluate a classification method. Beware, there may be missing values in these datasets. Good luck!"
   ]
  },
  {
   "cell_type": "code",
   "execution_count": 20,
   "metadata": {
    "colab": {},
    "colab_type": "code",
    "id": "-NE_fTbKGe5z"
   },
   "outputs": [
    {
     "name": "stdout",
     "output_type": "stream",
     "text": [
      "The number of samples: 246\n",
      "The number of columns: 494\n"
     ]
    }
   ],
   "source": [
    "# Data loading functions. Uncomment the one you want to use\n",
    "from worcgist.load_data import load_data\n",
    "\n",
    "data = load_data()\n",
    "print(f'The number of samples: {len(data.index)}')\n",
    "print(f'The number of columns: {len(data.columns)}')\n"
   ]
  },
  {
   "attachments": {},
   "cell_type": "markdown",
   "metadata": {},
   "source": [
    "## Data orientation\n",
    "\n",
    "Looking at the features, labels and values."
   ]
  },
  {
   "cell_type": "code",
   "execution_count": 21,
   "metadata": {},
   "outputs": [
    {
     "data": {
      "text/html": [
       "<div>\n",
       "<style scoped>\n",
       "    .dataframe tbody tr th:only-of-type {\n",
       "        vertical-align: middle;\n",
       "    }\n",
       "\n",
       "    .dataframe tbody tr th {\n",
       "        vertical-align: top;\n",
       "    }\n",
       "\n",
       "    .dataframe thead th {\n",
       "        text-align: right;\n",
       "    }\n",
       "</style>\n",
       "<table border=\"1\" class=\"dataframe\">\n",
       "  <thead>\n",
       "    <tr style=\"text-align: right;\">\n",
       "      <th></th>\n",
       "      <th>label</th>\n",
       "      <th>PREDICT_original_sf_compactness_avg_2.5D</th>\n",
       "      <th>PREDICT_original_sf_compactness_std_2.5D</th>\n",
       "      <th>PREDICT_original_sf_rad_dist_avg_2.5D</th>\n",
       "      <th>PREDICT_original_sf_rad_dist_std_2.5D</th>\n",
       "      <th>PREDICT_original_sf_roughness_avg_2.5D</th>\n",
       "      <th>PREDICT_original_sf_roughness_std_2.5D</th>\n",
       "      <th>PREDICT_original_sf_convexity_avg_2.5D</th>\n",
       "      <th>PREDICT_original_sf_convexity_std_2.5D</th>\n",
       "      <th>PREDICT_original_sf_cvar_avg_2.5D</th>\n",
       "      <th>...</th>\n",
       "      <th>PREDICT_original_phasef_phasesym_median_WL3_N5</th>\n",
       "      <th>PREDICT_original_phasef_phasesym_std_WL3_N5</th>\n",
       "      <th>PREDICT_original_phasef_phasesym_skewness_WL3_N5</th>\n",
       "      <th>PREDICT_original_phasef_phasesym_kurtosis_WL3_N5</th>\n",
       "      <th>PREDICT_original_phasef_phasesym_peak_WL3_N5</th>\n",
       "      <th>PREDICT_original_phasef_phasesym_peak_position_WL3_N5</th>\n",
       "      <th>PREDICT_original_phasef_phasesym_range_WL3_N5</th>\n",
       "      <th>PREDICT_original_phasef_phasesym_energy_WL3_N5</th>\n",
       "      <th>PREDICT_original_phasef_phasesym_quartile_range_WL3_N5</th>\n",
       "      <th>PREDICT_original_phasef_phasesym_entropy_WL3_N5</th>\n",
       "    </tr>\n",
       "    <tr>\n",
       "      <th>ID</th>\n",
       "      <th></th>\n",
       "      <th></th>\n",
       "      <th></th>\n",
       "      <th></th>\n",
       "      <th></th>\n",
       "      <th></th>\n",
       "      <th></th>\n",
       "      <th></th>\n",
       "      <th></th>\n",
       "      <th></th>\n",
       "      <th></th>\n",
       "      <th></th>\n",
       "      <th></th>\n",
       "      <th></th>\n",
       "      <th></th>\n",
       "      <th></th>\n",
       "      <th></th>\n",
       "      <th></th>\n",
       "      <th></th>\n",
       "      <th></th>\n",
       "      <th></th>\n",
       "    </tr>\n",
       "  </thead>\n",
       "  <tbody>\n",
       "    <tr>\n",
       "      <th>GIST-001_0</th>\n",
       "      <td>GIST</td>\n",
       "      <td>0.797427</td>\n",
       "      <td>0.120594</td>\n",
       "      <td>80.192445</td>\n",
       "      <td>9.445741</td>\n",
       "      <td>7.102210</td>\n",
       "      <td>3.876595</td>\n",
       "      <td>0.927623</td>\n",
       "      <td>0.081385</td>\n",
       "      <td>0.015227</td>\n",
       "      <td>...</td>\n",
       "      <td>0.0</td>\n",
       "      <td>0.032461</td>\n",
       "      <td>7.353902</td>\n",
       "      <td>63.183181</td>\n",
       "      <td>0.0</td>\n",
       "      <td>0</td>\n",
       "      <td>0.123189</td>\n",
       "      <td>1591.133826</td>\n",
       "      <td>0.0</td>\n",
       "      <td>15.687095</td>\n",
       "    </tr>\n",
       "    <tr>\n",
       "      <th>GIST-002_0</th>\n",
       "      <td>non-GIST</td>\n",
       "      <td>0.896991</td>\n",
       "      <td>0.045854</td>\n",
       "      <td>35.323607</td>\n",
       "      <td>2.781343</td>\n",
       "      <td>5.339906</td>\n",
       "      <td>1.923100</td>\n",
       "      <td>0.975762</td>\n",
       "      <td>0.017550</td>\n",
       "      <td>0.009118</td>\n",
       "      <td>...</td>\n",
       "      <td>0.0</td>\n",
       "      <td>0.043431</td>\n",
       "      <td>6.452863</td>\n",
       "      <td>52.634005</td>\n",
       "      <td>0.0</td>\n",
       "      <td>0</td>\n",
       "      <td>0.172040</td>\n",
       "      <td>220.543010</td>\n",
       "      <td>0.0</td>\n",
       "      <td>12.664845</td>\n",
       "    </tr>\n",
       "    <tr>\n",
       "      <th>GIST-003_0</th>\n",
       "      <td>GIST</td>\n",
       "      <td>0.893238</td>\n",
       "      <td>0.051894</td>\n",
       "      <td>17.582541</td>\n",
       "      <td>1.864908</td>\n",
       "      <td>7.622507</td>\n",
       "      <td>1.039745</td>\n",
       "      <td>0.979608</td>\n",
       "      <td>0.017926</td>\n",
       "      <td>0.013258</td>\n",
       "      <td>...</td>\n",
       "      <td>0.0</td>\n",
       "      <td>0.068175</td>\n",
       "      <td>3.849719</td>\n",
       "      <td>16.277217</td>\n",
       "      <td>0.0</td>\n",
       "      <td>0</td>\n",
       "      <td>0.286710</td>\n",
       "      <td>62.150817</td>\n",
       "      <td>0.0</td>\n",
       "      <td>10.432943</td>\n",
       "    </tr>\n",
       "    <tr>\n",
       "      <th>GIST-004_0</th>\n",
       "      <td>non-GIST</td>\n",
       "      <td>0.914027</td>\n",
       "      <td>0.032078</td>\n",
       "      <td>21.951056</td>\n",
       "      <td>2.188093</td>\n",
       "      <td>4.757274</td>\n",
       "      <td>1.786309</td>\n",
       "      <td>0.981125</td>\n",
       "      <td>0.013734</td>\n",
       "      <td>0.011338</td>\n",
       "      <td>...</td>\n",
       "      <td>0.0</td>\n",
       "      <td>0.044148</td>\n",
       "      <td>5.725807</td>\n",
       "      <td>38.600415</td>\n",
       "      <td>0.0</td>\n",
       "      <td>0</td>\n",
       "      <td>0.182812</td>\n",
       "      <td>39.375540</td>\n",
       "      <td>0.0</td>\n",
       "      <td>10.194878</td>\n",
       "    </tr>\n",
       "    <tr>\n",
       "      <th>GIST-005_0</th>\n",
       "      <td>non-GIST</td>\n",
       "      <td>0.659747</td>\n",
       "      <td>0.266226</td>\n",
       "      <td>20.801224</td>\n",
       "      <td>4.025831</td>\n",
       "      <td>14.404912</td>\n",
       "      <td>7.695865</td>\n",
       "      <td>0.865275</td>\n",
       "      <td>0.171213</td>\n",
       "      <td>0.048078</td>\n",
       "      <td>...</td>\n",
       "      <td>0.0</td>\n",
       "      <td>0.043369</td>\n",
       "      <td>4.546357</td>\n",
       "      <td>23.831176</td>\n",
       "      <td>0.0</td>\n",
       "      <td>0</td>\n",
       "      <td>0.183349</td>\n",
       "      <td>24.192700</td>\n",
       "      <td>0.0</td>\n",
       "      <td>10.066832</td>\n",
       "    </tr>\n",
       "  </tbody>\n",
       "</table>\n",
       "<p>5 rows × 494 columns</p>\n",
       "</div>"
      ],
      "text/plain": [
       "               label  PREDICT_original_sf_compactness_avg_2.5D  \\\n",
       "ID                                                               \n",
       "GIST-001_0      GIST                                  0.797427   \n",
       "GIST-002_0  non-GIST                                  0.896991   \n",
       "GIST-003_0      GIST                                  0.893238   \n",
       "GIST-004_0  non-GIST                                  0.914027   \n",
       "GIST-005_0  non-GIST                                  0.659747   \n",
       "\n",
       "            PREDICT_original_sf_compactness_std_2.5D  \\\n",
       "ID                                                     \n",
       "GIST-001_0                                  0.120594   \n",
       "GIST-002_0                                  0.045854   \n",
       "GIST-003_0                                  0.051894   \n",
       "GIST-004_0                                  0.032078   \n",
       "GIST-005_0                                  0.266226   \n",
       "\n",
       "            PREDICT_original_sf_rad_dist_avg_2.5D  \\\n",
       "ID                                                  \n",
       "GIST-001_0                              80.192445   \n",
       "GIST-002_0                              35.323607   \n",
       "GIST-003_0                              17.582541   \n",
       "GIST-004_0                              21.951056   \n",
       "GIST-005_0                              20.801224   \n",
       "\n",
       "            PREDICT_original_sf_rad_dist_std_2.5D  \\\n",
       "ID                                                  \n",
       "GIST-001_0                               9.445741   \n",
       "GIST-002_0                               2.781343   \n",
       "GIST-003_0                               1.864908   \n",
       "GIST-004_0                               2.188093   \n",
       "GIST-005_0                               4.025831   \n",
       "\n",
       "            PREDICT_original_sf_roughness_avg_2.5D  \\\n",
       "ID                                                   \n",
       "GIST-001_0                                7.102210   \n",
       "GIST-002_0                                5.339906   \n",
       "GIST-003_0                                7.622507   \n",
       "GIST-004_0                                4.757274   \n",
       "GIST-005_0                               14.404912   \n",
       "\n",
       "            PREDICT_original_sf_roughness_std_2.5D  \\\n",
       "ID                                                   \n",
       "GIST-001_0                                3.876595   \n",
       "GIST-002_0                                1.923100   \n",
       "GIST-003_0                                1.039745   \n",
       "GIST-004_0                                1.786309   \n",
       "GIST-005_0                                7.695865   \n",
       "\n",
       "            PREDICT_original_sf_convexity_avg_2.5D  \\\n",
       "ID                                                   \n",
       "GIST-001_0                                0.927623   \n",
       "GIST-002_0                                0.975762   \n",
       "GIST-003_0                                0.979608   \n",
       "GIST-004_0                                0.981125   \n",
       "GIST-005_0                                0.865275   \n",
       "\n",
       "            PREDICT_original_sf_convexity_std_2.5D  \\\n",
       "ID                                                   \n",
       "GIST-001_0                                0.081385   \n",
       "GIST-002_0                                0.017550   \n",
       "GIST-003_0                                0.017926   \n",
       "GIST-004_0                                0.013734   \n",
       "GIST-005_0                                0.171213   \n",
       "\n",
       "            PREDICT_original_sf_cvar_avg_2.5D  ...  \\\n",
       "ID                                             ...   \n",
       "GIST-001_0                           0.015227  ...   \n",
       "GIST-002_0                           0.009118  ...   \n",
       "GIST-003_0                           0.013258  ...   \n",
       "GIST-004_0                           0.011338  ...   \n",
       "GIST-005_0                           0.048078  ...   \n",
       "\n",
       "            PREDICT_original_phasef_phasesym_median_WL3_N5  \\\n",
       "ID                                                           \n",
       "GIST-001_0                                             0.0   \n",
       "GIST-002_0                                             0.0   \n",
       "GIST-003_0                                             0.0   \n",
       "GIST-004_0                                             0.0   \n",
       "GIST-005_0                                             0.0   \n",
       "\n",
       "            PREDICT_original_phasef_phasesym_std_WL3_N5  \\\n",
       "ID                                                        \n",
       "GIST-001_0                                     0.032461   \n",
       "GIST-002_0                                     0.043431   \n",
       "GIST-003_0                                     0.068175   \n",
       "GIST-004_0                                     0.044148   \n",
       "GIST-005_0                                     0.043369   \n",
       "\n",
       "            PREDICT_original_phasef_phasesym_skewness_WL3_N5  \\\n",
       "ID                                                             \n",
       "GIST-001_0                                          7.353902   \n",
       "GIST-002_0                                          6.452863   \n",
       "GIST-003_0                                          3.849719   \n",
       "GIST-004_0                                          5.725807   \n",
       "GIST-005_0                                          4.546357   \n",
       "\n",
       "            PREDICT_original_phasef_phasesym_kurtosis_WL3_N5  \\\n",
       "ID                                                             \n",
       "GIST-001_0                                         63.183181   \n",
       "GIST-002_0                                         52.634005   \n",
       "GIST-003_0                                         16.277217   \n",
       "GIST-004_0                                         38.600415   \n",
       "GIST-005_0                                         23.831176   \n",
       "\n",
       "            PREDICT_original_phasef_phasesym_peak_WL3_N5  \\\n",
       "ID                                                         \n",
       "GIST-001_0                                           0.0   \n",
       "GIST-002_0                                           0.0   \n",
       "GIST-003_0                                           0.0   \n",
       "GIST-004_0                                           0.0   \n",
       "GIST-005_0                                           0.0   \n",
       "\n",
       "            PREDICT_original_phasef_phasesym_peak_position_WL3_N5  \\\n",
       "ID                                                                  \n",
       "GIST-001_0                                                  0       \n",
       "GIST-002_0                                                  0       \n",
       "GIST-003_0                                                  0       \n",
       "GIST-004_0                                                  0       \n",
       "GIST-005_0                                                  0       \n",
       "\n",
       "            PREDICT_original_phasef_phasesym_range_WL3_N5  \\\n",
       "ID                                                          \n",
       "GIST-001_0                                       0.123189   \n",
       "GIST-002_0                                       0.172040   \n",
       "GIST-003_0                                       0.286710   \n",
       "GIST-004_0                                       0.182812   \n",
       "GIST-005_0                                       0.183349   \n",
       "\n",
       "            PREDICT_original_phasef_phasesym_energy_WL3_N5  \\\n",
       "ID                                                           \n",
       "GIST-001_0                                     1591.133826   \n",
       "GIST-002_0                                      220.543010   \n",
       "GIST-003_0                                       62.150817   \n",
       "GIST-004_0                                       39.375540   \n",
       "GIST-005_0                                       24.192700   \n",
       "\n",
       "            PREDICT_original_phasef_phasesym_quartile_range_WL3_N5  \\\n",
       "ID                                                                   \n",
       "GIST-001_0                                                0.0        \n",
       "GIST-002_0                                                0.0        \n",
       "GIST-003_0                                                0.0        \n",
       "GIST-004_0                                                0.0        \n",
       "GIST-005_0                                                0.0        \n",
       "\n",
       "            PREDICT_original_phasef_phasesym_entropy_WL3_N5  \n",
       "ID                                                           \n",
       "GIST-001_0                                        15.687095  \n",
       "GIST-002_0                                        12.664845  \n",
       "GIST-003_0                                        10.432943  \n",
       "GIST-004_0                                        10.194878  \n",
       "GIST-005_0                                        10.066832  \n",
       "\n",
       "[5 rows x 494 columns]"
      ]
     },
     "execution_count": 21,
     "metadata": {},
     "output_type": "execute_result"
    }
   ],
   "source": [
    "data.head()"
   ]
  },
  {
   "cell_type": "code",
   "execution_count": 22,
   "metadata": {},
   "outputs": [
    {
     "data": {
      "text/plain": [
       "label                                                      object\n",
       "PREDICT_original_sf_compactness_avg_2.5D                  float64\n",
       "PREDICT_original_sf_compactness_std_2.5D                  float64\n",
       "PREDICT_original_sf_rad_dist_avg_2.5D                     float64\n",
       "PREDICT_original_sf_rad_dist_std_2.5D                     float64\n",
       "                                                           ...   \n",
       "PREDICT_original_phasef_phasesym_peak_position_WL3_N5       int64\n",
       "PREDICT_original_phasef_phasesym_range_WL3_N5             float64\n",
       "PREDICT_original_phasef_phasesym_energy_WL3_N5            float64\n",
       "PREDICT_original_phasef_phasesym_quartile_range_WL3_N5    float64\n",
       "PREDICT_original_phasef_phasesym_entropy_WL3_N5           float64\n",
       "Length: 494, dtype: object"
      ]
     },
     "execution_count": 22,
     "metadata": {},
     "output_type": "execute_result"
    }
   ],
   "source": [
    "data.dtypes"
   ]
  },
  {
   "cell_type": "code",
   "execution_count": 5,
   "metadata": {},
   "outputs": [
    {
     "data": {
      "text/plain": [
       "Index(['label', 'PREDICT_original_sf_compactness_avg_2.5D',\n",
       "       'PREDICT_original_sf_compactness_std_2.5D',\n",
       "       'PREDICT_original_sf_rad_dist_avg_2.5D',\n",
       "       'PREDICT_original_sf_rad_dist_std_2.5D',\n",
       "       'PREDICT_original_sf_roughness_avg_2.5D',\n",
       "       'PREDICT_original_sf_roughness_std_2.5D',\n",
       "       'PREDICT_original_sf_convexity_avg_2.5D',\n",
       "       'PREDICT_original_sf_convexity_std_2.5D',\n",
       "       'PREDICT_original_sf_cvar_avg_2.5D',\n",
       "       ...\n",
       "       'PREDICT_original_phasef_phasesym_median_WL3_N5',\n",
       "       'PREDICT_original_phasef_phasesym_std_WL3_N5',\n",
       "       'PREDICT_original_phasef_phasesym_skewness_WL3_N5',\n",
       "       'PREDICT_original_phasef_phasesym_kurtosis_WL3_N5',\n",
       "       'PREDICT_original_phasef_phasesym_peak_WL3_N5',\n",
       "       'PREDICT_original_phasef_phasesym_peak_position_WL3_N5',\n",
       "       'PREDICT_original_phasef_phasesym_range_WL3_N5',\n",
       "       'PREDICT_original_phasef_phasesym_energy_WL3_N5',\n",
       "       'PREDICT_original_phasef_phasesym_quartile_range_WL3_N5',\n",
       "       'PREDICT_original_phasef_phasesym_entropy_WL3_N5'],\n",
       "      dtype='object', length=494)"
      ]
     },
     "execution_count": 5,
     "metadata": {},
     "output_type": "execute_result"
    }
   ],
   "source": [
    "data.columns"
   ]
  },
  {
   "cell_type": "code",
   "execution_count": 23,
   "metadata": {},
   "outputs": [
    {
     "name": "stdout",
     "output_type": "stream",
     "text": [
      "The amount of samples in the dataset is 246\n",
      "The amount of features in the dataset is 494\n",
      "The amount of missing data in the dataset is 0\n",
      "The amount of gists in the dataset is 125\n",
      "The amount of non-gists in the dataset is 121\n"
     ]
    }
   ],
   "source": [
    "#Amount of samples\n",
    "print(\"The amount of samples in the dataset is\", len(data))\n",
    "\n",
    "#Amount of features\n",
    "print(\"The amount of features in the dataset is\", len(data.columns))\n",
    "\n",
    "#Amount of missing data\n",
    "print(\"The amount of missing data in the dataset is\", sum(data.isnull().sum()))\n",
    "\n",
    "#Amount of GIST\n",
    "print(\"The amount of gists in the dataset is\", len(data[data.label=='GIST']))\n",
    "#Amount of non-GIST\n",
    "print(\"The amount of non-gists in the dataset is\", len(data[data.label=='non-GIST']))"
   ]
  },
  {
   "attachments": {},
   "cell_type": "markdown",
   "metadata": {},
   "source": [
    "## Missing data"
   ]
  },
  {
   "cell_type": "code",
   "execution_count": 26,
   "metadata": {},
   "outputs": [
    {
     "data": {
      "text/plain": [
       "label                                                     0\n",
       "PREDICT_original_sf_compactness_avg_2.5D                  0\n",
       "PREDICT_original_sf_compactness_std_2.5D                  0\n",
       "PREDICT_original_sf_rad_dist_avg_2.5D                     0\n",
       "PREDICT_original_sf_rad_dist_std_2.5D                     0\n",
       "                                                         ..\n",
       "PREDICT_original_phasef_phasesym_peak_position_WL3_N5     0\n",
       "PREDICT_original_phasef_phasesym_range_WL3_N5             0\n",
       "PREDICT_original_phasef_phasesym_energy_WL3_N5            0\n",
       "PREDICT_original_phasef_phasesym_quartile_range_WL3_N5    0\n",
       "PREDICT_original_phasef_phasesym_entropy_WL3_N5           0\n",
       "Length: 494, dtype: int64"
      ]
     },
     "execution_count": 26,
     "metadata": {},
     "output_type": "execute_result"
    }
   ],
   "source": [
    "#check if there are any missing\n",
    "data.isnull().values.any()\n",
    "\n",
    "#how many missings are there and in what columns?\n",
    "data.isnull().sum()"
   ]
  },
  {
   "attachments": {},
   "cell_type": "markdown",
   "metadata": {},
   "source": [
    "# Test & Train split"
   ]
  },
  {
   "cell_type": "code",
   "execution_count": 43,
   "metadata": {},
   "outputs": [],
   "source": [
    "#split data in features and label\n",
    "y = data['label']\n",
    "X = data.drop(['label'], axis=1)\n",
    "\n",
    "\n",
    "from sklearn.model_selection import train_test_split\n",
    "X_train, X_test, y_train, y_test = train_test_split(X, y, test_size=0.2, random_state=1)"
   ]
  },
  {
   "attachments": {},
   "cell_type": "markdown",
   "metadata": {},
   "source": [
    "# Feature normalization"
   ]
  },
  {
   "attachments": {},
   "cell_type": "markdown",
   "metadata": {},
   "source": [
    "De meest standaard scaling gekozen van: https://scikit-learn.org/stable/modules/preprocessing.html"
   ]
  },
  {
   "cell_type": "code",
   "execution_count": null,
   "metadata": {},
   "outputs": [],
   "source": []
  },
  {
   "cell_type": "code",
   "execution_count": 135,
   "metadata": {},
   "outputs": [
    {
     "name": "stdout",
     "output_type": "stream",
     "text": [
      "-4.668414974094007e-15\n",
      "0.03752472715343751\n"
     ]
    }
   ],
   "source": [
    "from sklearn import preprocessing\n",
    "import math\n",
    "\n",
    "scaler = preprocessing.StandardScaler().fit(X_train)\n",
    "\n",
    "X_train_scaled = scaler.transform(X_train)\n",
    "X_test_scaled = scaler.transform(X_test)\n",
    "print(X_train_scaled.mean())\n",
    "print(X_test_scaled.mean())"
   ]
  },
  {
   "attachments": {},
   "cell_type": "markdown",
   "metadata": {},
   "source": [
    "# Feature selection\n",
    "## Removing features with low variance"
   ]
  },
  {
   "cell_type": "code",
   "execution_count": 10,
   "metadata": {},
   "outputs": [
    {
     "data": {
      "text/plain": [
       "array([[-1.17608232,  2.83958564,  0.64833893, ...,  0.58798237,\n",
       "        -0.36417837,  1.32229703],\n",
       "       [ 0.49347027, -0.53945932,  0.8201891 , ...,  0.18061697,\n",
       "        -0.36417837,  1.11564879],\n",
       "       [-0.80253627,  1.57235364,  1.45048308, ..., -0.24681107,\n",
       "        -0.36417837,  0.57233173],\n",
       "       ...,\n",
       "       [ 0.44808211, -0.50067421,  0.72377283, ...,  0.09371332,\n",
       "        -0.36417837,  0.95556883],\n",
       "       [-0.88331702, -0.06633901,  0.16538468, ..., -0.1321743 ,\n",
       "        -0.36417837,  0.43597763],\n",
       "       [-1.32805174,  1.85142973,  0.75634146, ..., -0.31234196,\n",
       "        -0.36417837,  0.28900335]])"
      ]
     },
     "execution_count": 10,
     "metadata": {},
     "output_type": "execute_result"
    }
   ],
   "source": [
    "#from sklearn.feature_selection import VarianceThreshold\n",
    "#X_train_scaled_LV = VarianceThreshold(threshold=(.8 * (1 - .8)))\n",
    "#X_train_scaled_LV.fit_transform(X_train_scaled)"
   ]
  },
  {
   "attachments": {},
   "cell_type": "markdown",
   "metadata": {},
   "source": [
    "## Univariate feature selection"
   ]
  },
  {
   "cell_type": "code",
   "execution_count": 11,
   "metadata": {},
   "outputs": [
    {
     "name": "stderr",
     "output_type": "stream",
     "text": [
      "/Applications/miniconda3/lib/python3.8/site-packages/sklearn/feature_selection/_univariate_selection.py:112: UserWarning: Features [ 77  83  84  90  97 103 110 467 474 475 480 487 488] are constant.\n",
      "  warnings.warn(\"Features %s are constant.\" % constant_features_idx, UserWarning)\n",
      "/Applications/miniconda3/lib/python3.8/site-packages/sklearn/feature_selection/_univariate_selection.py:113: RuntimeWarning: invalid value encountered in divide\n",
      "  f = msb / msw\n"
     ]
    }
   ],
   "source": [
    "##from sklearn.feature_selection import SelectKBest\n",
    "#from sklearn.feature_selection import f_classif\n",
    "\n",
    "#X_new = SelectKBest(f_classif, k=10).fit_transform(X_train_scaled, y_train)"
   ]
  },
  {
   "attachments": {},
   "cell_type": "markdown",
   "metadata": {},
   "source": [
    "## Principal component analysis\n",
    "\n",
    "First, we plot the 2D PCA projection to see whether a 2d feature space would allow clear distinction between groups (since then, a simple classifier could be an option). Next, We determine the number of principal components based on the variance plot."
   ]
  },
  {
   "cell_type": "code",
   "execution_count": 141,
   "metadata": {},
   "outputs": [
    {
     "data": {
      "text/plain": [
       "<AxesSubplot: title={'center': 'PCA Component Explained Variances'}, xlabel='First n principal components', ylabel='Explained variance ratio of first n components'>"
      ]
     },
     "execution_count": 141,
     "metadata": {},
     "output_type": "execute_result"
    },
    {
     "data": {
      "image/png": "[encoded data removed]",
      "text/plain": [
       "<Figure size 640x480 with 1 Axes>"
      ]
     },
     "metadata": {},
     "output_type": "display_data"
    },
    {
     "data": {
      "image/png": "[encoded data removed]",
      "text/plain": [
       "<Figure size 640x480 with 1 Axes>"
      ]
     },
     "metadata": {},
     "output_type": "display_data"
    }
   ],
   "source": [
    "from sklearn.decomposition import PCA\n",
    "import matplotlib.pyplot as plt\n",
    "import pandas as pd\n",
    "import scikitplot as skplt\n",
    "\n",
    "pca = PCA(random_state=1)\n",
    "pca.fit(X_train_scaled)\n",
    "\n",
    "skplt.decomposition.plot_pca_2d_projection(pca, X_train_scaled, y_train)\n",
    "\n",
    "skplt.decomposition.plot_pca_component_variance(pca)"
   ]
  },
  {
   "cell_type": "code",
   "execution_count": 144,
   "metadata": {},
   "outputs": [],
   "source": [
    "pca = PCA(0.753,random_state=1)\n",
    "X_pca = pca.fit(X_train_scaled)\n",
    "\n",
    "train_pca = X_pca.transform(X_train_scaled)\n",
    "test_pca = X_pca.transform(X_test_scaled)"
   ]
  },
  {
   "attachments": {},
   "cell_type": "markdown",
   "metadata": {},
   "source": [
    "# Classifiers"
   ]
  },
  {
   "attachments": {},
   "cell_type": "markdown",
   "metadata": {},
   "source": [
    "### Linear SVC"
   ]
  },
  {
   "cell_type": "code",
   "execution_count": 16,
   "metadata": {},
   "outputs": [],
   "source": [
    "#Import svm model\n",
    "from sklearn import svm\n",
    "\n",
    "#Create a svm Classifier\n",
    "clf = svm.SVC(kernel='linear') # Linear Kernel\n",
    "\n",
    "#Train the model using the training sets\n",
    "clf.fit(X_train, y_train)\n",
    "\n",
    "#Predict the response for test dataset\n",
    "y_pred = clf.predict(X_test)"
   ]
  },
  {
   "cell_type": "code",
   "execution_count": null,
   "metadata": {},
   "outputs": [],
   "source": [
    "#Import scikit-learn metrics module for accuracy calculation\n",
    "from sklearn import metrics\n",
    "\n",
    "# Model Accuracy: how often is the classifier correct?\n",
    "print(\"Accuracy:\",metrics.accuracy_score(y_test, y_pred))"
   ]
  },
  {
   "attachments": {},
   "cell_type": "markdown",
   "metadata": {},
   "source": [
    "### Random Forest\n",
    "In this subsection, random forest is performed on the train set. Hyperparameter tuning is performed using a \"random grid\" dictionary with values for n_estimators, max_depth, min_samples_split and min_samples_leaf. 500 iterations are performed within this random grid, the best hyperparameters are printed according to the accuracy. 5-fold cross-validation is applied. After hyperparameter tuning, the resulting hyperparameters are inserted in the final random forest algorithm, which is tested on the test set. Resulting accuracy, sensitivity, specificity and area under the ROC are given, as well as the ROC plot."
   ]
  },
  {
   "cell_type": "code",
   "execution_count": 181,
   "metadata": {},
   "outputs": [
    {
     "name": "stdout",
     "output_type": "stream",
     "text": [
      "Best hyperparameters: {'n_estimators': 250, 'min_samples_split': 7, 'min_samples_leaf': 2, 'max_depth': 250}\n",
      "Best accuracy score: 0.6383333333333333\n"
     ]
    }
   ],
   "source": [
    "# Import necessary functions \n",
    "from sklearn.model_selection import RandomizedSearchCV # randomised search function\n",
    "from sklearn.ensemble import RandomForestClassifier # random forest classifier\n",
    "\n",
    "# Create the random grid\n",
    "random_grid = {'n_estimators': [100,250,500,750,1000,1250,1500,1750,2000],\n",
    "                'max_depth': [25,50,75,100,125,150,175,200,250,300],\n",
    "                'min_samples_split': [2,3,4,5,6,7,8,9,10],\n",
    "                'min_samples_leaf': [1,2,3,4,5]\n",
    "                }\n",
    "\n",
    "# Performing randomised search\n",
    "rf = RandomForestClassifier()\n",
    "rf_search = RandomizedSearchCV(rf, random_grid, n_iter=500, scoring='accuracy', n_jobs=-1, cv=5, random_state=0)\n",
    "rf_search.fit(train_pca,y_train)\n",
    "\n",
    "\n",
    "# Best hyperparameters and their accuracy\n",
    "print('Best hyperparameters: ' + str(rf_search.best_params_))\n",
    "print('Best accuracy score: ' + str(rf_search.best_score_))"
   ]
  },
  {
   "cell_type": "code",
   "execution_count": 197,
   "metadata": {},
   "outputs": [
    {
     "name": "stdout",
     "output_type": "stream",
     "text": [
      "Accuracy score on the test set: 0.64\n"
     ]
    }
   ],
   "source": [
    "# Import necessary functions\n",
    "from sklearn.metrics import accuracy_score # calculating accuracy\n",
    "\n",
    "# Random forest with best hyperparameters\n",
    "rf_model = RandomForestClassifier(n_estimators=250, min_samples_split=7, min_samples_leaf=2, max_depth=250, random_state=0)\n",
    "rf_model.fit(train_pca, y_train)\n",
    "\n",
    "# Results of random forest on the test set\n",
    "rf_prediction = rf_model.predict(test_pca)\n",
    "print('Accuracy score on the test set: ' + str(accuracy_score(y_test, rf_prediction)))"
   ]
  }
 ],
 "metadata": {
  "colab": {
   "collapsed_sections": [],
   "name": "assignment.ipynb",
   "provenance": []
  },
  "kernelspec": {
   "display_name": "Python 3",
   "language": "python",
   "name": "python3"
  },
  "language_info": {
   "codemirror_mode": {
    "name": "ipython",
    "version": 3
   },
   "file_extension": ".py",
   "mimetype": "text/x-python",
   "name": "python",
   "nbconvert_exporter": "python",
   "pygments_lexer": "ipython3",
   "version": "3.8.16"
  }
 },
 "nbformat": 4,
 "nbformat_minor": 1
}
