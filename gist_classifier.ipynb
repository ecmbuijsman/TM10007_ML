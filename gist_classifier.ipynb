{
  "cells": [
    {
      "cell_type": "markdown",
      "metadata": {
        "id": "view-in-github",
        "colab_type": "text"
      },
      "source": [
        "<a href=\"https://colab.research.google.com/github/ecmbuijsman/TM10007_ML/blob/main/gist_classifier.ipynb\" target=\"_parent\"><img src=\"https://colab.research.google.com/assets/colab-badge.svg\" alt=\"Open In Colab\"/></a>"
      ]
    },
    {
      "cell_type": "markdown",
      "metadata": {
        "id": "7SXpaKwwGe5x"
      },
      "source": [
        "# TM10007 Assignment template"
      ]
    },
    {
      "cell_type": "code",
      "execution_count": 4,
      "metadata": {
        "colab": {
          "base_uri": "https://localhost:8080/"
        },
        "id": "CiDn2Sk-VWqE",
        "outputId": "2641b659-c6f6-43d9-a845-d24037b6c011"
      },
      "outputs": [
        {
          "output_type": "stream",
          "name": "stdout",
          "text": [
            "  Preparing metadata (setup.py) ... \u001b[?25l\u001b[?25hdone\n",
            "  Building wheel for ktml (setup.py) ... \u001b[?25l\u001b[?25hdone\n",
            "Looking in indexes: https://pypi.org/simple, https://us-python.pkg.dev/colab-wheels/public/simple/\n",
            "Collecting scikit-plot\n",
            "  Downloading scikit_plot-0.3.7-py3-none-any.whl (33 kB)\n",
            "Requirement already satisfied: matplotlib>=1.4.0 in /usr/local/lib/python3.9/dist-packages (from scikit-plot) (3.7.1)\n",
            "Requirement already satisfied: scikit-learn>=0.18 in /usr/local/lib/python3.9/dist-packages (from scikit-plot) (1.2.2)\n",
            "Requirement already satisfied: scipy>=0.9 in /usr/local/lib/python3.9/dist-packages (from scikit-plot) (1.10.1)\n",
            "Requirement already satisfied: joblib>=0.10 in /usr/local/lib/python3.9/dist-packages (from scikit-plot) (1.2.0)\n",
            "Requirement already satisfied: kiwisolver>=1.0.1 in /usr/local/lib/python3.9/dist-packages (from matplotlib>=1.4.0->scikit-plot) (1.4.4)\n",
            "Requirement already satisfied: numpy>=1.20 in /usr/local/lib/python3.9/dist-packages (from matplotlib>=1.4.0->scikit-plot) (1.22.4)\n",
            "Requirement already satisfied: contourpy>=1.0.1 in /usr/local/lib/python3.9/dist-packages (from matplotlib>=1.4.0->scikit-plot) (1.0.7)\n",
            "Requirement already satisfied: importlib-resources>=3.2.0 in /usr/local/lib/python3.9/dist-packages (from matplotlib>=1.4.0->scikit-plot) (5.12.0)\n",
            "Requirement already satisfied: packaging>=20.0 in /usr/local/lib/python3.9/dist-packages (from matplotlib>=1.4.0->scikit-plot) (23.0)\n",
            "Requirement already satisfied: pillow>=6.2.0 in /usr/local/lib/python3.9/dist-packages (from matplotlib>=1.4.0->scikit-plot) (8.4.0)\n",
            "Requirement already satisfied: pyparsing>=2.3.1 in /usr/local/lib/python3.9/dist-packages (from matplotlib>=1.4.0->scikit-plot) (3.0.9)\n",
            "Requirement already satisfied: python-dateutil>=2.7 in /usr/local/lib/python3.9/dist-packages (from matplotlib>=1.4.0->scikit-plot) (2.8.2)\n",
            "Requirement already satisfied: cycler>=0.10 in /usr/local/lib/python3.9/dist-packages (from matplotlib>=1.4.0->scikit-plot) (0.11.0)\n",
            "Requirement already satisfied: fonttools>=4.22.0 in /usr/local/lib/python3.9/dist-packages (from matplotlib>=1.4.0->scikit-plot) (4.39.3)\n",
            "Requirement already satisfied: threadpoolctl>=2.0.0 in /usr/local/lib/python3.9/dist-packages (from scikit-learn>=0.18->scikit-plot) (3.1.0)\n",
            "Requirement already satisfied: zipp>=3.1.0 in /usr/local/lib/python3.9/dist-packages (from importlib-resources>=3.2.0->matplotlib>=1.4.0->scikit-plot) (3.15.0)\n",
            "Requirement already satisfied: six>=1.5 in /usr/local/lib/python3.9/dist-packages (from python-dateutil>=2.7->matplotlib>=1.4.0->scikit-plot) (1.16.0)\n",
            "Installing collected packages: scikit-plot\n",
            "Successfully installed scikit-plot-0.3.7\n"
          ]
        }
      ],
      "source": [
        "# Run this to use from colab environment\n",
        "!pip install -q --upgrade git+https://github.com/jveenland/tm10007_ml.git\n",
        "!pip install scikit-plot"
      ]
    },
    {
      "cell_type": "markdown",
      "metadata": {
        "id": "-GZXCnfDK7lV"
      },
      "source": [
        "## Data loading and cleaning\n",
        "\n",
        "The dataset is loaded and checked for the number of samples and columns (features)."
      ]
    },
    {
      "cell_type": "code",
      "execution_count": 5,
      "metadata": {
        "colab": {
          "base_uri": "https://localhost:8080/"
        },
        "id": "-NE_fTbKGe5z",
        "outputId": "c5b06d9c-3838-47fb-867a-a621bf484c61"
      },
      "outputs": [
        {
          "output_type": "stream",
          "name": "stdout",
          "text": [
            "Cloning into 'tm10007_ml'...\n",
            "remote: Enumerating objects: 83, done.\u001b[K\n",
            "remote: Total 83 (delta 0), reused 0 (delta 0), pack-reused 83\u001b[K\n",
            "Unpacking objects: 100% (83/83), 67.99 MiB | 9.80 MiB/s, done.\n",
            "The number of samples: 246\n",
            "The number of columns: 494\n"
          ]
        }
      ],
      "source": [
        "import pandas as pd\n",
        "\n",
        "# Load data \n",
        "!git clone https://github.com/jveenland/tm10007_ml.git\n",
        "data = pd.read_csv('/content/tm10007_ml/worcgist/GIST_radiomicFeatures.csv')\n",
        "\n",
        "data = data.drop(['ID'],axis=1)\n",
        "\n",
        "# Print number of samples and columns\n",
        "print(f'The number of samples: {len(data.index)}')\n",
        "print(f'The number of columns: {len(data.columns)}')"
      ]
    },
    {
      "cell_type": "markdown",
      "metadata": {
        "id": "0cVcYHnhK7lZ"
      },
      "source": [
        "## Data orientation\n",
        "\n",
        "In this part, data orientation is performed by looking at the samples, feature names, feature datatypes, amount of data and check whether there are missing data."
      ]
    },
    {
      "cell_type": "code",
      "execution_count": 6,
      "metadata": {
        "id": "LlyWimNkK7lZ",
        "outputId": "a28e5830-8644-46b1-e91d-6734e5c15d5e",
        "colab": {
          "base_uri": "https://localhost:8080/",
          "height": 352
        }
      },
      "outputs": [
        {
          "output_type": "execute_result",
          "data": {
            "text/plain": [
              "      label  PREDICT_original_sf_compactness_avg_2.5D  \\\n",
              "0      GIST                                  0.797427   \n",
              "1  non-GIST                                  0.896991   \n",
              "2      GIST                                  0.893238   \n",
              "3  non-GIST                                  0.914027   \n",
              "4  non-GIST                                  0.659747   \n",
              "\n",
              "   PREDICT_original_sf_compactness_std_2.5D  \\\n",
              "0                                  0.120594   \n",
              "1                                  0.045854   \n",
              "2                                  0.051894   \n",
              "3                                  0.032078   \n",
              "4                                  0.266226   \n",
              "\n",
              "   PREDICT_original_sf_rad_dist_avg_2.5D  \\\n",
              "0                              80.192445   \n",
              "1                              35.323607   \n",
              "2                              17.582541   \n",
              "3                              21.951056   \n",
              "4                              20.801224   \n",
              "\n",
              "   PREDICT_original_sf_rad_dist_std_2.5D  \\\n",
              "0                               9.445741   \n",
              "1                               2.781343   \n",
              "2                               1.864908   \n",
              "3                               2.188093   \n",
              "4                               4.025831   \n",
              "\n",
              "   PREDICT_original_sf_roughness_avg_2.5D  \\\n",
              "0                                7.102210   \n",
              "1                                5.339906   \n",
              "2                                7.622507   \n",
              "3                                4.757274   \n",
              "4                               14.404912   \n",
              "\n",
              "   PREDICT_original_sf_roughness_std_2.5D  \\\n",
              "0                                3.876595   \n",
              "1                                1.923100   \n",
              "2                                1.039745   \n",
              "3                                1.786309   \n",
              "4                                7.695865   \n",
              "\n",
              "   PREDICT_original_sf_convexity_avg_2.5D  \\\n",
              "0                                0.927623   \n",
              "1                                0.975762   \n",
              "2                                0.979608   \n",
              "3                                0.981125   \n",
              "4                                0.865275   \n",
              "\n",
              "   PREDICT_original_sf_convexity_std_2.5D  PREDICT_original_sf_cvar_avg_2.5D  \\\n",
              "0                                0.081385                           0.015227   \n",
              "1                                0.017550                           0.009118   \n",
              "2                                0.017926                           0.013258   \n",
              "3                                0.013734                           0.011338   \n",
              "4                                0.171213                           0.048078   \n",
              "\n",
              "   ...  PREDICT_original_phasef_phasesym_median_WL3_N5  \\\n",
              "0  ...                                             0.0   \n",
              "1  ...                                             0.0   \n",
              "2  ...                                             0.0   \n",
              "3  ...                                             0.0   \n",
              "4  ...                                             0.0   \n",
              "\n",
              "   PREDICT_original_phasef_phasesym_std_WL3_N5  \\\n",
              "0                                     0.032461   \n",
              "1                                     0.043431   \n",
              "2                                     0.068175   \n",
              "3                                     0.044148   \n",
              "4                                     0.043369   \n",
              "\n",
              "   PREDICT_original_phasef_phasesym_skewness_WL3_N5  \\\n",
              "0                                          7.353902   \n",
              "1                                          6.452863   \n",
              "2                                          3.849719   \n",
              "3                                          5.725807   \n",
              "4                                          4.546357   \n",
              "\n",
              "   PREDICT_original_phasef_phasesym_kurtosis_WL3_N5  \\\n",
              "0                                         63.183181   \n",
              "1                                         52.634005   \n",
              "2                                         16.277217   \n",
              "3                                         38.600415   \n",
              "4                                         23.831176   \n",
              "\n",
              "   PREDICT_original_phasef_phasesym_peak_WL3_N5  \\\n",
              "0                                           0.0   \n",
              "1                                           0.0   \n",
              "2                                           0.0   \n",
              "3                                           0.0   \n",
              "4                                           0.0   \n",
              "\n",
              "   PREDICT_original_phasef_phasesym_peak_position_WL3_N5  \\\n",
              "0                                                  0       \n",
              "1                                                  0       \n",
              "2                                                  0       \n",
              "3                                                  0       \n",
              "4                                                  0       \n",
              "\n",
              "   PREDICT_original_phasef_phasesym_range_WL3_N5  \\\n",
              "0                                       0.123189   \n",
              "1                                       0.172040   \n",
              "2                                       0.286710   \n",
              "3                                       0.182812   \n",
              "4                                       0.183349   \n",
              "\n",
              "   PREDICT_original_phasef_phasesym_energy_WL3_N5  \\\n",
              "0                                     1591.133826   \n",
              "1                                      220.543010   \n",
              "2                                       62.150817   \n",
              "3                                       39.375540   \n",
              "4                                       24.192700   \n",
              "\n",
              "   PREDICT_original_phasef_phasesym_quartile_range_WL3_N5  \\\n",
              "0                                                0.0        \n",
              "1                                                0.0        \n",
              "2                                                0.0        \n",
              "3                                                0.0        \n",
              "4                                                0.0        \n",
              "\n",
              "   PREDICT_original_phasef_phasesym_entropy_WL3_N5  \n",
              "0                                        15.687095  \n",
              "1                                        12.664845  \n",
              "2                                        10.432943  \n",
              "3                                        10.194878  \n",
              "4                                        10.066832  \n",
              "\n",
              "[5 rows x 494 columns]"
            ],
            "text/html": [
              "\n",
              "  <div id=\"df-d941284e-93b7-42fc-bdf3-67fdafe48b1f\">\n",
              "    <div class=\"colab-df-container\">\n",
              "      <div>\n",
              "<style scoped>\n",
              "    .dataframe tbody tr th:only-of-type {\n",
              "        vertical-align: middle;\n",
              "    }\n",
              "\n",
              "    .dataframe tbody tr th {\n",
              "        vertical-align: top;\n",
              "    }\n",
              "\n",
              "    .dataframe thead th {\n",
              "        text-align: right;\n",
              "    }\n",
              "</style>\n",
              "<table border=\"1\" class=\"dataframe\">\n",
              "  <thead>\n",
              "    <tr style=\"text-align: right;\">\n",
              "      <th></th>\n",
              "      <th>label</th>\n",
              "      <th>PREDICT_original_sf_compactness_avg_2.5D</th>\n",
              "      <th>PREDICT_original_sf_compactness_std_2.5D</th>\n",
              "      <th>PREDICT_original_sf_rad_dist_avg_2.5D</th>\n",
              "      <th>PREDICT_original_sf_rad_dist_std_2.5D</th>\n",
              "      <th>PREDICT_original_sf_roughness_avg_2.5D</th>\n",
              "      <th>PREDICT_original_sf_roughness_std_2.5D</th>\n",
              "      <th>PREDICT_original_sf_convexity_avg_2.5D</th>\n",
              "      <th>PREDICT_original_sf_convexity_std_2.5D</th>\n",
              "      <th>PREDICT_original_sf_cvar_avg_2.5D</th>\n",
              "      <th>...</th>\n",
              "      <th>PREDICT_original_phasef_phasesym_median_WL3_N5</th>\n",
              "      <th>PREDICT_original_phasef_phasesym_std_WL3_N5</th>\n",
              "      <th>PREDICT_original_phasef_phasesym_skewness_WL3_N5</th>\n",
              "      <th>PREDICT_original_phasef_phasesym_kurtosis_WL3_N5</th>\n",
              "      <th>PREDICT_original_phasef_phasesym_peak_WL3_N5</th>\n",
              "      <th>PREDICT_original_phasef_phasesym_peak_position_WL3_N5</th>\n",
              "      <th>PREDICT_original_phasef_phasesym_range_WL3_N5</th>\n",
              "      <th>PREDICT_original_phasef_phasesym_energy_WL3_N5</th>\n",
              "      <th>PREDICT_original_phasef_phasesym_quartile_range_WL3_N5</th>\n",
              "      <th>PREDICT_original_phasef_phasesym_entropy_WL3_N5</th>\n",
              "    </tr>\n",
              "  </thead>\n",
              "  <tbody>\n",
              "    <tr>\n",
              "      <th>0</th>\n",
              "      <td>GIST</td>\n",
              "      <td>0.797427</td>\n",
              "      <td>0.120594</td>\n",
              "      <td>80.192445</td>\n",
              "      <td>9.445741</td>\n",
              "      <td>7.102210</td>\n",
              "      <td>3.876595</td>\n",
              "      <td>0.927623</td>\n",
              "      <td>0.081385</td>\n",
              "      <td>0.015227</td>\n",
              "      <td>...</td>\n",
              "      <td>0.0</td>\n",
              "      <td>0.032461</td>\n",
              "      <td>7.353902</td>\n",
              "      <td>63.183181</td>\n",
              "      <td>0.0</td>\n",
              "      <td>0</td>\n",
              "      <td>0.123189</td>\n",
              "      <td>1591.133826</td>\n",
              "      <td>0.0</td>\n",
              "      <td>15.687095</td>\n",
              "    </tr>\n",
              "    <tr>\n",
              "      <th>1</th>\n",
              "      <td>non-GIST</td>\n",
              "      <td>0.896991</td>\n",
              "      <td>0.045854</td>\n",
              "      <td>35.323607</td>\n",
              "      <td>2.781343</td>\n",
              "      <td>5.339906</td>\n",
              "      <td>1.923100</td>\n",
              "      <td>0.975762</td>\n",
              "      <td>0.017550</td>\n",
              "      <td>0.009118</td>\n",
              "      <td>...</td>\n",
              "      <td>0.0</td>\n",
              "      <td>0.043431</td>\n",
              "      <td>6.452863</td>\n",
              "      <td>52.634005</td>\n",
              "      <td>0.0</td>\n",
              "      <td>0</td>\n",
              "      <td>0.172040</td>\n",
              "      <td>220.543010</td>\n",
              "      <td>0.0</td>\n",
              "      <td>12.664845</td>\n",
              "    </tr>\n",
              "    <tr>\n",
              "      <th>2</th>\n",
              "      <td>GIST</td>\n",
              "      <td>0.893238</td>\n",
              "      <td>0.051894</td>\n",
              "      <td>17.582541</td>\n",
              "      <td>1.864908</td>\n",
              "      <td>7.622507</td>\n",
              "      <td>1.039745</td>\n",
              "      <td>0.979608</td>\n",
              "      <td>0.017926</td>\n",
              "      <td>0.013258</td>\n",
              "      <td>...</td>\n",
              "      <td>0.0</td>\n",
              "      <td>0.068175</td>\n",
              "      <td>3.849719</td>\n",
              "      <td>16.277217</td>\n",
              "      <td>0.0</td>\n",
              "      <td>0</td>\n",
              "      <td>0.286710</td>\n",
              "      <td>62.150817</td>\n",
              "      <td>0.0</td>\n",
              "      <td>10.432943</td>\n",
              "    </tr>\n",
              "    <tr>\n",
              "      <th>3</th>\n",
              "      <td>non-GIST</td>\n",
              "      <td>0.914027</td>\n",
              "      <td>0.032078</td>\n",
              "      <td>21.951056</td>\n",
              "      <td>2.188093</td>\n",
              "      <td>4.757274</td>\n",
              "      <td>1.786309</td>\n",
              "      <td>0.981125</td>\n",
              "      <td>0.013734</td>\n",
              "      <td>0.011338</td>\n",
              "      <td>...</td>\n",
              "      <td>0.0</td>\n",
              "      <td>0.044148</td>\n",
              "      <td>5.725807</td>\n",
              "      <td>38.600415</td>\n",
              "      <td>0.0</td>\n",
              "      <td>0</td>\n",
              "      <td>0.182812</td>\n",
              "      <td>39.375540</td>\n",
              "      <td>0.0</td>\n",
              "      <td>10.194878</td>\n",
              "    </tr>\n",
              "    <tr>\n",
              "      <th>4</th>\n",
              "      <td>non-GIST</td>\n",
              "      <td>0.659747</td>\n",
              "      <td>0.266226</td>\n",
              "      <td>20.801224</td>\n",
              "      <td>4.025831</td>\n",
              "      <td>14.404912</td>\n",
              "      <td>7.695865</td>\n",
              "      <td>0.865275</td>\n",
              "      <td>0.171213</td>\n",
              "      <td>0.048078</td>\n",
              "      <td>...</td>\n",
              "      <td>0.0</td>\n",
              "      <td>0.043369</td>\n",
              "      <td>4.546357</td>\n",
              "      <td>23.831176</td>\n",
              "      <td>0.0</td>\n",
              "      <td>0</td>\n",
              "      <td>0.183349</td>\n",
              "      <td>24.192700</td>\n",
              "      <td>0.0</td>\n",
              "      <td>10.066832</td>\n",
              "    </tr>\n",
              "  </tbody>\n",
              "</table>\n",
              "<p>5 rows × 494 columns</p>\n",
              "</div>\n",
              "      <button class=\"colab-df-convert\" onclick=\"convertToInteractive('df-d941284e-93b7-42fc-bdf3-67fdafe48b1f')\"\n",
              "              title=\"Convert this dataframe to an interactive table.\"\n",
              "              style=\"display:none;\">\n",
              "        \n",
              "  <svg xmlns=\"http://www.w3.org/2000/svg\" height=\"24px\"viewBox=\"0 0 24 24\"\n",
              "       width=\"24px\">\n",
              "    <path d=\"M0 0h24v24H0V0z\" fill=\"none\"/>\n",
              "    <path d=\"M18.56 5.44l.94 2.06.94-2.06 2.06-.94-2.06-.94-.94-2.06-.94 2.06-2.06.94zm-11 1L8.5 8.5l.94-2.06 2.06-.94-2.06-.94L8.5 2.5l-.94 2.06-2.06.94zm10 10l.94 2.06.94-2.06 2.06-.94-2.06-.94-.94-2.06-.94 2.06-2.06.94z\"/><path d=\"M17.41 7.96l-1.37-1.37c-.4-.4-.92-.59-1.43-.59-.52 0-1.04.2-1.43.59L10.3 9.45l-7.72 7.72c-.78.78-.78 2.05 0 2.83L4 21.41c.39.39.9.59 1.41.59.51 0 1.02-.2 1.41-.59l7.78-7.78 2.81-2.81c.8-.78.8-2.07 0-2.86zM5.41 20L4 18.59l7.72-7.72 1.47 1.35L5.41 20z\"/>\n",
              "  </svg>\n",
              "      </button>\n",
              "      \n",
              "  <style>\n",
              "    .colab-df-container {\n",
              "      display:flex;\n",
              "      flex-wrap:wrap;\n",
              "      gap: 12px;\n",
              "    }\n",
              "\n",
              "    .colab-df-convert {\n",
              "      background-color: #E8F0FE;\n",
              "      border: none;\n",
              "      border-radius: 50%;\n",
              "      cursor: pointer;\n",
              "      display: none;\n",
              "      fill: #1967D2;\n",
              "      height: 32px;\n",
              "      padding: 0 0 0 0;\n",
              "      width: 32px;\n",
              "    }\n",
              "\n",
              "    .colab-df-convert:hover {\n",
              "      background-color: #E2EBFA;\n",
              "      box-shadow: 0px 1px 2px rgba(60, 64, 67, 0.3), 0px 1px 3px 1px rgba(60, 64, 67, 0.15);\n",
              "      fill: #174EA6;\n",
              "    }\n",
              "\n",
              "    [theme=dark] .colab-df-convert {\n",
              "      background-color: #3B4455;\n",
              "      fill: #D2E3FC;\n",
              "    }\n",
              "\n",
              "    [theme=dark] .colab-df-convert:hover {\n",
              "      background-color: #434B5C;\n",
              "      box-shadow: 0px 1px 3px 1px rgba(0, 0, 0, 0.15);\n",
              "      filter: drop-shadow(0px 1px 2px rgba(0, 0, 0, 0.3));\n",
              "      fill: #FFFFFF;\n",
              "    }\n",
              "  </style>\n",
              "\n",
              "      <script>\n",
              "        const buttonEl =\n",
              "          document.querySelector('#df-d941284e-93b7-42fc-bdf3-67fdafe48b1f button.colab-df-convert');\n",
              "        buttonEl.style.display =\n",
              "          google.colab.kernel.accessAllowed ? 'block' : 'none';\n",
              "\n",
              "        async function convertToInteractive(key) {\n",
              "          const element = document.querySelector('#df-d941284e-93b7-42fc-bdf3-67fdafe48b1f');\n",
              "          const dataTable =\n",
              "            await google.colab.kernel.invokeFunction('convertToInteractive',\n",
              "                                                     [key], {});\n",
              "          if (!dataTable) return;\n",
              "\n",
              "          const docLinkHtml = 'Like what you see? Visit the ' +\n",
              "            '<a target=\"_blank\" href=https://colab.research.google.com/notebooks/data_table.ipynb>data table notebook</a>'\n",
              "            + ' to learn more about interactive tables.';\n",
              "          element.innerHTML = '';\n",
              "          dataTable['output_type'] = 'display_data';\n",
              "          await google.colab.output.renderOutput(dataTable, element);\n",
              "          const docLink = document.createElement('div');\n",
              "          docLink.innerHTML = docLinkHtml;\n",
              "          element.appendChild(docLink);\n",
              "        }\n",
              "      </script>\n",
              "    </div>\n",
              "  </div>\n",
              "  "
            ]
          },
          "metadata": {},
          "execution_count": 6
        }
      ],
      "source": [
        "# Visualising some of the samples\n",
        "data.head()"
      ]
    },
    {
      "cell_type": "code",
      "execution_count": 7,
      "metadata": {
        "id": "S6oK2RKoK7la",
        "outputId": "05c1440a-30db-4f83-9b03-3b24bf0c6221",
        "colab": {
          "base_uri": "https://localhost:8080/"
        }
      },
      "outputs": [
        {
          "output_type": "execute_result",
          "data": {
            "text/plain": [
              "label                                                      object\n",
              "PREDICT_original_sf_compactness_avg_2.5D                  float64\n",
              "PREDICT_original_sf_compactness_std_2.5D                  float64\n",
              "PREDICT_original_sf_rad_dist_avg_2.5D                     float64\n",
              "PREDICT_original_sf_rad_dist_std_2.5D                     float64\n",
              "                                                           ...   \n",
              "PREDICT_original_phasef_phasesym_peak_position_WL3_N5       int64\n",
              "PREDICT_original_phasef_phasesym_range_WL3_N5             float64\n",
              "PREDICT_original_phasef_phasesym_energy_WL3_N5            float64\n",
              "PREDICT_original_phasef_phasesym_quartile_range_WL3_N5    float64\n",
              "PREDICT_original_phasef_phasesym_entropy_WL3_N5           float64\n",
              "Length: 494, dtype: object"
            ]
          },
          "metadata": {},
          "execution_count": 7
        }
      ],
      "source": [
        "# Printing datatypes for each feature\n",
        "data.dtypes"
      ]
    },
    {
      "cell_type": "code",
      "execution_count": 8,
      "metadata": {
        "id": "7aal4HiPK7la",
        "outputId": "cc3ba742-5554-4815-f5e2-427a904a3306",
        "colab": {
          "base_uri": "https://localhost:8080/"
        }
      },
      "outputs": [
        {
          "output_type": "execute_result",
          "data": {
            "text/plain": [
              "Index(['label', 'PREDICT_original_sf_compactness_avg_2.5D',\n",
              "       'PREDICT_original_sf_compactness_std_2.5D',\n",
              "       'PREDICT_original_sf_rad_dist_avg_2.5D',\n",
              "       'PREDICT_original_sf_rad_dist_std_2.5D',\n",
              "       'PREDICT_original_sf_roughness_avg_2.5D',\n",
              "       'PREDICT_original_sf_roughness_std_2.5D',\n",
              "       'PREDICT_original_sf_convexity_avg_2.5D',\n",
              "       'PREDICT_original_sf_convexity_std_2.5D',\n",
              "       'PREDICT_original_sf_cvar_avg_2.5D',\n",
              "       ...\n",
              "       'PREDICT_original_phasef_phasesym_median_WL3_N5',\n",
              "       'PREDICT_original_phasef_phasesym_std_WL3_N5',\n",
              "       'PREDICT_original_phasef_phasesym_skewness_WL3_N5',\n",
              "       'PREDICT_original_phasef_phasesym_kurtosis_WL3_N5',\n",
              "       'PREDICT_original_phasef_phasesym_peak_WL3_N5',\n",
              "       'PREDICT_original_phasef_phasesym_peak_position_WL3_N5',\n",
              "       'PREDICT_original_phasef_phasesym_range_WL3_N5',\n",
              "       'PREDICT_original_phasef_phasesym_energy_WL3_N5',\n",
              "       'PREDICT_original_phasef_phasesym_quartile_range_WL3_N5',\n",
              "       'PREDICT_original_phasef_phasesym_entropy_WL3_N5'],\n",
              "      dtype='object', length=494)"
            ]
          },
          "metadata": {},
          "execution_count": 8
        }
      ],
      "source": [
        "# Printing feature names\n",
        "data.columns"
      ]
    },
    {
      "cell_type": "code",
      "execution_count": 9,
      "metadata": {
        "id": "3ipfqZZuK7lb",
        "outputId": "bb62d28b-e23a-4402-9dd5-0c27558d8931",
        "colab": {
          "base_uri": "https://localhost:8080/"
        }
      },
      "outputs": [
        {
          "output_type": "stream",
          "name": "stdout",
          "text": [
            "The number of samples in the dataset is 246\n",
            "The number of features in the dataset is 494\n",
            "The number of GISTs in the dataset is 125\n",
            "The number of non-GISTs in the dataset is 121\n"
          ]
        }
      ],
      "source": [
        "# Printing number of samples\n",
        "print(\"The number of samples in the dataset is\", len(data))\n",
        "\n",
        "# Printing number of features\n",
        "print(\"The number of features in the dataset is\", len(data.columns))\n",
        "\n",
        "# Printing number of GISTs\n",
        "print(\"The number of GISTs in the dataset is\", len(data[data.label=='GIST']))\n",
        "\n",
        "# Printing number of non-GISTs\n",
        "print(\"The number of non-GISTs in the dataset is\", len(data[data.label=='non-GIST']))"
      ]
    },
    {
      "cell_type": "code",
      "execution_count": 10,
      "metadata": {
        "id": "BBAebd5HK7lb",
        "outputId": "4725ecce-84f6-4cf3-97b4-e2951a0ea173",
        "colab": {
          "base_uri": "https://localhost:8080/"
        }
      },
      "outputs": [
        {
          "output_type": "execute_result",
          "data": {
            "text/plain": [
              "label                                                     0\n",
              "PREDICT_original_sf_compactness_avg_2.5D                  0\n",
              "PREDICT_original_sf_compactness_std_2.5D                  0\n",
              "PREDICT_original_sf_rad_dist_avg_2.5D                     0\n",
              "PREDICT_original_sf_rad_dist_std_2.5D                     0\n",
              "                                                         ..\n",
              "PREDICT_original_phasef_phasesym_peak_position_WL3_N5     0\n",
              "PREDICT_original_phasef_phasesym_range_WL3_N5             0\n",
              "PREDICT_original_phasef_phasesym_energy_WL3_N5            0\n",
              "PREDICT_original_phasef_phasesym_quartile_range_WL3_N5    0\n",
              "PREDICT_original_phasef_phasesym_entropy_WL3_N5           0\n",
              "Length: 494, dtype: int64"
            ]
          },
          "metadata": {},
          "execution_count": 10
        }
      ],
      "source": [
        "# Check for NaNs\n",
        "data.isnull().values.any()\n",
        "\n",
        "# Checking where the NaNs would be\n",
        "data.isnull().sum()"
      ]
    },
    {
      "cell_type": "markdown",
      "metadata": {
        "id": "qtgYR0AOK7lc"
      },
      "source": [
        "## Test & Train-Validation split\n",
        "\n",
        "The dataset is split in a test set and a train set in a 20:80 ratio, in line with literature cited in the report."
      ]
    },
    {
      "cell_type": "code",
      "execution_count": 11,
      "metadata": {
        "id": "_IPdxzdjK7lc"
      },
      "outputs": [],
      "source": [
        "from sklearn.model_selection import train_test_split\n",
        "from sklearn.model_selection import KFold\n",
        "\n",
        "# Split data in features and label\n",
        "y = data['label'] # GIST/non-GIST\n",
        "X = data.drop(['label'], axis=1) # feature values\n",
        "\n",
        "# Test-train split (0.2-0.8)\n",
        "X_train, X_test, y_train, y_test = train_test_split(X, y, test_size=0.2, random_state=1)"
      ]
    },
    {
      "cell_type": "markdown",
      "metadata": {
        "id": "DhJFuSjpK7ld"
      },
      "source": [
        "## Feature normalization\n",
        "\n",
        "Standardize features by removing the mean and scaling to unit variance using StandardScaler from sklearn."
      ]
    },
    {
      "cell_type": "code",
      "execution_count": 12,
      "metadata": {
        "id": "7QRttHASK7ld"
      },
      "outputs": [],
      "source": [
        "from sklearn import preprocessing\n",
        "\n",
        "# Standard scaler from sklearn, fitted on train data\n",
        "scaler = preprocessing.StandardScaler().fit(X_train)\n",
        "\n",
        "# Applying scaler to train and test set\n",
        "X_train_scaled = scaler.transform(X_train)\n",
        "X_test_scaled = scaler.transform(X_test)"
      ]
    },
    {
      "cell_type": "markdown",
      "metadata": {
        "id": "d3WQZJK1K7ld"
      },
      "source": [
        "## Feature selection - principal component analysis (PCA)\n",
        "\n",
        "First, we plot the 2D PCA projection to see whether a 2D feature space would allow clear distinction between groups (since then, a simple classifier could be an option). Next, we determine the number of principal components based on the variance plot."
      ]
    },
    {
      "cell_type": "code",
      "execution_count": 13,
      "metadata": {
        "id": "tDpfXRsuK7ld",
        "outputId": "c6daeba3-c4ea-4cac-e899-5b00b1cac174",
        "colab": {
          "base_uri": "https://localhost:8080/",
          "height": 945
        }
      },
      "outputs": [
        {
          "output_type": "execute_result",
          "data": {
            "text/plain": [
              "<Axes: title={'center': 'PCA Component Explained Variances'}, xlabel='First n principal components', ylabel='Explained variance ratio of first n components'>"
            ]
          },
          "metadata": {},
          "execution_count": 13
        },
        {
          "output_type": "display_data",
          "data": {
            "text/plain": [
              "<Figure size 640x480 with 1 Axes>"
            ],
            "image/png": "[encoded data removed]"
          },
          "metadata": {}
        },
        {
          "output_type": "display_data",
          "data": {
            "text/plain": [
              "<Figure size 640x480 with 1 Axes>"
            ],
            "image/png": "[encoded data removed]"
          },
          "metadata": {}
        }
      ],
      "source": [
        "from sklearn.decomposition import PCA\n",
        "import scikitplot as skplt\n",
        "\n",
        "# Performing PCA\n",
        "pca = PCA(random_state=1)\n",
        "pca.fit(X_train_scaled)\n",
        "\n",
        "# Plotting 2D projection and component variance graph\n",
        "skplt.decomposition.plot_pca_2d_projection(pca, X_train_scaled, y_train)\n",
        "skplt.decomposition.plot_pca_component_variance(pca)"
      ]
    },
    {
      "cell_type": "code",
      "execution_count": 14,
      "metadata": {
        "id": "mogJbjLuK7le"
      },
      "outputs": [],
      "source": [
        "from sklearn.decomposition import PCA\n",
        "\n",
        "# Performing PCA with 0.753 (result of the figure above)\n",
        "pca = PCA(0.753,random_state=1)\n",
        "\n",
        "# Fitting the PCA to the train set\n",
        "X_pca = pca.fit(X_train_scaled)\n",
        "\n",
        "# Applying PCA to both train and test set\n",
        "train_pca = X_pca.transform(X_train_scaled)\n",
        "test_pca = X_pca.transform(X_test_scaled)"
      ]
    },
    {
      "cell_type": "markdown",
      "metadata": {
        "id": "hercCB1HK7le"
      },
      "source": [
        "## Classifiers"
      ]
    },
    {
      "cell_type": "markdown",
      "metadata": {
        "id": "IE_q1eXBK7lf"
      },
      "source": [
        "### Support vector machine (SVM)\n",
        "\n",
        "In this subsection, a support vector machine (SVM) is performed on the train set. First, a default SVM model is built. Hyperparameter tuning is performed using a \"random grid\" dictionary with values for C, gamma, kernel and for the poly kernel, different values for degree and coef0 are checked as well. 500 iterations are performed within this random grid, the best hyperparameters are printed according to the accuracy. 5-fold cross-validation is applied."
      ]
    },
    {
      "cell_type": "code",
      "execution_count": 15,
      "metadata": {
        "id": "mc6GqWgLK7lf",
        "outputId": "53794eca-c6f5-49f0-834d-66689dfb42c9",
        "colab": {
          "base_uri": "https://localhost:8080/",
          "height": 389
        }
      },
      "outputs": [
        {
          "output_type": "error",
          "ename": "KeyboardInterrupt",
          "evalue": "ignored",
          "traceback": [
            "\u001b[0;31m---------------------------------------------------------------------------\u001b[0m",
            "\u001b[0;31mKeyboardInterrupt\u001b[0m                         Traceback (most recent call last)",
            "\u001b[0;32m<ipython-input-15-5c8973e561b3>\u001b[0m in \u001b[0;36m<cell line: 15>\u001b[0;34m()\u001b[0m\n\u001b[1;32m     13\u001b[0m \u001b[0;34m\u001b[0m\u001b[0m\n\u001b[1;32m     14\u001b[0m \u001b[0;31m# Fit grid search\u001b[0m\u001b[0;34m\u001b[0m\u001b[0;34m\u001b[0m\u001b[0m\n\u001b[0;32m---> 15\u001b[0;31m \u001b[0msvm_search\u001b[0m\u001b[0;34m.\u001b[0m\u001b[0mfit\u001b[0m\u001b[0;34m(\u001b[0m\u001b[0mtrain_pca\u001b[0m\u001b[0;34m,\u001b[0m\u001b[0my_train\u001b[0m\u001b[0;34m)\u001b[0m\u001b[0;34m\u001b[0m\u001b[0;34m\u001b[0m\u001b[0m\n\u001b[0m\u001b[1;32m     16\u001b[0m \u001b[0;34m\u001b[0m\u001b[0m\n\u001b[1;32m     17\u001b[0m \u001b[0;31m# Best hyperparameters and their accuracy\u001b[0m\u001b[0;34m\u001b[0m\u001b[0;34m\u001b[0m\u001b[0m\n",
            "\u001b[0;32m/usr/local/lib/python3.9/dist-packages/sklearn/model_selection/_search.py\u001b[0m in \u001b[0;36mfit\u001b[0;34m(self, X, y, groups, **fit_params)\u001b[0m\n\u001b[1;32m    872\u001b[0m                 \u001b[0;32mreturn\u001b[0m \u001b[0mresults\u001b[0m\u001b[0;34m\u001b[0m\u001b[0;34m\u001b[0m\u001b[0m\n\u001b[1;32m    873\u001b[0m \u001b[0;34m\u001b[0m\u001b[0m\n\u001b[0;32m--> 874\u001b[0;31m             \u001b[0mself\u001b[0m\u001b[0;34m.\u001b[0m\u001b[0m_run_search\u001b[0m\u001b[0;34m(\u001b[0m\u001b[0mevaluate_candidates\u001b[0m\u001b[0;34m)\u001b[0m\u001b[0;34m\u001b[0m\u001b[0;34m\u001b[0m\u001b[0m\n\u001b[0m\u001b[1;32m    875\u001b[0m \u001b[0;34m\u001b[0m\u001b[0m\n\u001b[1;32m    876\u001b[0m             \u001b[0;31m# multimetric is determined here because in the case of a callable\u001b[0m\u001b[0;34m\u001b[0m\u001b[0;34m\u001b[0m\u001b[0m\n",
            "\u001b[0;32m/usr/local/lib/python3.9/dist-packages/sklearn/model_selection/_search.py\u001b[0m in \u001b[0;36m_run_search\u001b[0;34m(self, evaluate_candidates)\u001b[0m\n\u001b[1;32m   1766\u001b[0m     \u001b[0;32mdef\u001b[0m \u001b[0m_run_search\u001b[0m\u001b[0;34m(\u001b[0m\u001b[0mself\u001b[0m\u001b[0;34m,\u001b[0m \u001b[0mevaluate_candidates\u001b[0m\u001b[0;34m)\u001b[0m\u001b[0;34m:\u001b[0m\u001b[0;34m\u001b[0m\u001b[0;34m\u001b[0m\u001b[0m\n\u001b[1;32m   1767\u001b[0m         \u001b[0;34m\"\"\"Search n_iter candidates from param_distributions\"\"\"\u001b[0m\u001b[0;34m\u001b[0m\u001b[0;34m\u001b[0m\u001b[0m\n\u001b[0;32m-> 1768\u001b[0;31m         evaluate_candidates(\n\u001b[0m\u001b[1;32m   1769\u001b[0m             ParameterSampler(\n\u001b[1;32m   1770\u001b[0m                 \u001b[0mself\u001b[0m\u001b[0;34m.\u001b[0m\u001b[0mparam_distributions\u001b[0m\u001b[0;34m,\u001b[0m \u001b[0mself\u001b[0m\u001b[0;34m.\u001b[0m\u001b[0mn_iter\u001b[0m\u001b[0;34m,\u001b[0m \u001b[0mrandom_state\u001b[0m\u001b[0;34m=\u001b[0m\u001b[0mself\u001b[0m\u001b[0;34m.\u001b[0m\u001b[0mrandom_state\u001b[0m\u001b[0;34m\u001b[0m\u001b[0;34m\u001b[0m\u001b[0m\n",
            "\u001b[0;32m/usr/local/lib/python3.9/dist-packages/sklearn/model_selection/_search.py\u001b[0m in \u001b[0;36mevaluate_candidates\u001b[0;34m(candidate_params, cv, more_results)\u001b[0m\n\u001b[1;32m    819\u001b[0m                     )\n\u001b[1;32m    820\u001b[0m \u001b[0;34m\u001b[0m\u001b[0m\n\u001b[0;32m--> 821\u001b[0;31m                 out = parallel(\n\u001b[0m\u001b[1;32m    822\u001b[0m                     delayed(_fit_and_score)(\n\u001b[1;32m    823\u001b[0m                         \u001b[0mclone\u001b[0m\u001b[0;34m(\u001b[0m\u001b[0mbase_estimator\u001b[0m\u001b[0;34m)\u001b[0m\u001b[0;34m,\u001b[0m\u001b[0;34m\u001b[0m\u001b[0;34m\u001b[0m\u001b[0m\n",
            "\u001b[0;32m/usr/local/lib/python3.9/dist-packages/sklearn/utils/parallel.py\u001b[0m in \u001b[0;36m__call__\u001b[0;34m(self, iterable)\u001b[0m\n\u001b[1;32m     61\u001b[0m             \u001b[0;32mfor\u001b[0m \u001b[0mdelayed_func\u001b[0m\u001b[0;34m,\u001b[0m \u001b[0margs\u001b[0m\u001b[0;34m,\u001b[0m \u001b[0mkwargs\u001b[0m \u001b[0;32min\u001b[0m \u001b[0miterable\u001b[0m\u001b[0;34m\u001b[0m\u001b[0;34m\u001b[0m\u001b[0m\n\u001b[1;32m     62\u001b[0m         )\n\u001b[0;32m---> 63\u001b[0;31m         \u001b[0;32mreturn\u001b[0m \u001b[0msuper\u001b[0m\u001b[0;34m(\u001b[0m\u001b[0;34m)\u001b[0m\u001b[0;34m.\u001b[0m\u001b[0m__call__\u001b[0m\u001b[0;34m(\u001b[0m\u001b[0miterable_with_config\u001b[0m\u001b[0;34m)\u001b[0m\u001b[0;34m\u001b[0m\u001b[0;34m\u001b[0m\u001b[0m\n\u001b[0m\u001b[1;32m     64\u001b[0m \u001b[0;34m\u001b[0m\u001b[0m\n\u001b[1;32m     65\u001b[0m \u001b[0;34m\u001b[0m\u001b[0m\n",
            "\u001b[0;32m/usr/local/lib/python3.9/dist-packages/joblib/parallel.py\u001b[0m in \u001b[0;36m__call__\u001b[0;34m(self, iterable)\u001b[0m\n\u001b[1;32m   1096\u001b[0m \u001b[0;34m\u001b[0m\u001b[0m\n\u001b[1;32m   1097\u001b[0m             \u001b[0;32mwith\u001b[0m \u001b[0mself\u001b[0m\u001b[0;34m.\u001b[0m\u001b[0m_backend\u001b[0m\u001b[0;34m.\u001b[0m\u001b[0mretrieval_context\u001b[0m\u001b[0;34m(\u001b[0m\u001b[0;34m)\u001b[0m\u001b[0;34m:\u001b[0m\u001b[0;34m\u001b[0m\u001b[0;34m\u001b[0m\u001b[0m\n\u001b[0;32m-> 1098\u001b[0;31m                 \u001b[0mself\u001b[0m\u001b[0;34m.\u001b[0m\u001b[0mretrieve\u001b[0m\u001b[0;34m(\u001b[0m\u001b[0;34m)\u001b[0m\u001b[0;34m\u001b[0m\u001b[0;34m\u001b[0m\u001b[0m\n\u001b[0m\u001b[1;32m   1099\u001b[0m             \u001b[0;31m# Make sure that we get a last message telling us we are done\u001b[0m\u001b[0;34m\u001b[0m\u001b[0;34m\u001b[0m\u001b[0m\n\u001b[1;32m   1100\u001b[0m             \u001b[0melapsed_time\u001b[0m \u001b[0;34m=\u001b[0m \u001b[0mtime\u001b[0m\u001b[0;34m.\u001b[0m\u001b[0mtime\u001b[0m\u001b[0;34m(\u001b[0m\u001b[0;34m)\u001b[0m \u001b[0;34m-\u001b[0m \u001b[0mself\u001b[0m\u001b[0;34m.\u001b[0m\u001b[0m_start_time\u001b[0m\u001b[0;34m\u001b[0m\u001b[0;34m\u001b[0m\u001b[0m\n",
            "\u001b[0;32m/usr/local/lib/python3.9/dist-packages/joblib/parallel.py\u001b[0m in \u001b[0;36mretrieve\u001b[0;34m(self)\u001b[0m\n\u001b[1;32m    973\u001b[0m             \u001b[0;32mtry\u001b[0m\u001b[0;34m:\u001b[0m\u001b[0;34m\u001b[0m\u001b[0;34m\u001b[0m\u001b[0m\n\u001b[1;32m    974\u001b[0m                 \u001b[0;32mif\u001b[0m \u001b[0mgetattr\u001b[0m\u001b[0;34m(\u001b[0m\u001b[0mself\u001b[0m\u001b[0;34m.\u001b[0m\u001b[0m_backend\u001b[0m\u001b[0;34m,\u001b[0m \u001b[0;34m'supports_timeout'\u001b[0m\u001b[0;34m,\u001b[0m \u001b[0;32mFalse\u001b[0m\u001b[0;34m)\u001b[0m\u001b[0;34m:\u001b[0m\u001b[0;34m\u001b[0m\u001b[0;34m\u001b[0m\u001b[0m\n\u001b[0;32m--> 975\u001b[0;31m                     \u001b[0mself\u001b[0m\u001b[0;34m.\u001b[0m\u001b[0m_output\u001b[0m\u001b[0;34m.\u001b[0m\u001b[0mextend\u001b[0m\u001b[0;34m(\u001b[0m\u001b[0mjob\u001b[0m\u001b[0;34m.\u001b[0m\u001b[0mget\u001b[0m\u001b[0;34m(\u001b[0m\u001b[0mtimeout\u001b[0m\u001b[0;34m=\u001b[0m\u001b[0mself\u001b[0m\u001b[0;34m.\u001b[0m\u001b[0mtimeout\u001b[0m\u001b[0;34m)\u001b[0m\u001b[0;34m)\u001b[0m\u001b[0;34m\u001b[0m\u001b[0;34m\u001b[0m\u001b[0m\n\u001b[0m\u001b[1;32m    976\u001b[0m                 \u001b[0;32melse\u001b[0m\u001b[0;34m:\u001b[0m\u001b[0;34m\u001b[0m\u001b[0;34m\u001b[0m\u001b[0m\n\u001b[1;32m    977\u001b[0m                     \u001b[0mself\u001b[0m\u001b[0;34m.\u001b[0m\u001b[0m_output\u001b[0m\u001b[0;34m.\u001b[0m\u001b[0mextend\u001b[0m\u001b[0;34m(\u001b[0m\u001b[0mjob\u001b[0m\u001b[0;34m.\u001b[0m\u001b[0mget\u001b[0m\u001b[0;34m(\u001b[0m\u001b[0;34m)\u001b[0m\u001b[0;34m)\u001b[0m\u001b[0;34m\u001b[0m\u001b[0;34m\u001b[0m\u001b[0m\n",
            "\u001b[0;32m/usr/local/lib/python3.9/dist-packages/joblib/_parallel_backends.py\u001b[0m in \u001b[0;36mwrap_future_result\u001b[0;34m(future, timeout)\u001b[0m\n\u001b[1;32m    565\u001b[0m         AsyncResults.get from multiprocessing.\"\"\"\n\u001b[1;32m    566\u001b[0m         \u001b[0;32mtry\u001b[0m\u001b[0;34m:\u001b[0m\u001b[0;34m\u001b[0m\u001b[0;34m\u001b[0m\u001b[0m\n\u001b[0;32m--> 567\u001b[0;31m             \u001b[0;32mreturn\u001b[0m \u001b[0mfuture\u001b[0m\u001b[0;34m.\u001b[0m\u001b[0mresult\u001b[0m\u001b[0;34m(\u001b[0m\u001b[0mtimeout\u001b[0m\u001b[0;34m=\u001b[0m\u001b[0mtimeout\u001b[0m\u001b[0;34m)\u001b[0m\u001b[0;34m\u001b[0m\u001b[0;34m\u001b[0m\u001b[0m\n\u001b[0m\u001b[1;32m    568\u001b[0m         \u001b[0;32mexcept\u001b[0m \u001b[0mCfTimeoutError\u001b[0m \u001b[0;32mas\u001b[0m \u001b[0me\u001b[0m\u001b[0;34m:\u001b[0m\u001b[0;34m\u001b[0m\u001b[0;34m\u001b[0m\u001b[0m\n\u001b[1;32m    569\u001b[0m             \u001b[0;32mraise\u001b[0m \u001b[0mTimeoutError\u001b[0m \u001b[0;32mfrom\u001b[0m \u001b[0me\u001b[0m\u001b[0;34m\u001b[0m\u001b[0;34m\u001b[0m\u001b[0m\n",
            "\u001b[0;32m/usr/lib/python3.9/concurrent/futures/_base.py\u001b[0m in \u001b[0;36mresult\u001b[0;34m(self, timeout)\u001b[0m\n\u001b[1;32m    439\u001b[0m                     \u001b[0;32mreturn\u001b[0m \u001b[0mself\u001b[0m\u001b[0;34m.\u001b[0m\u001b[0m__get_result\u001b[0m\u001b[0;34m(\u001b[0m\u001b[0;34m)\u001b[0m\u001b[0;34m\u001b[0m\u001b[0;34m\u001b[0m\u001b[0m\n\u001b[1;32m    440\u001b[0m \u001b[0;34m\u001b[0m\u001b[0m\n\u001b[0;32m--> 441\u001b[0;31m                 \u001b[0mself\u001b[0m\u001b[0;34m.\u001b[0m\u001b[0m_condition\u001b[0m\u001b[0;34m.\u001b[0m\u001b[0mwait\u001b[0m\u001b[0;34m(\u001b[0m\u001b[0mtimeout\u001b[0m\u001b[0;34m)\u001b[0m\u001b[0;34m\u001b[0m\u001b[0;34m\u001b[0m\u001b[0m\n\u001b[0m\u001b[1;32m    442\u001b[0m \u001b[0;34m\u001b[0m\u001b[0m\n\u001b[1;32m    443\u001b[0m                 \u001b[0;32mif\u001b[0m \u001b[0mself\u001b[0m\u001b[0;34m.\u001b[0m\u001b[0m_state\u001b[0m \u001b[0;32min\u001b[0m \u001b[0;34m[\u001b[0m\u001b[0mCANCELLED\u001b[0m\u001b[0;34m,\u001b[0m \u001b[0mCANCELLED_AND_NOTIFIED\u001b[0m\u001b[0;34m]\u001b[0m\u001b[0;34m:\u001b[0m\u001b[0;34m\u001b[0m\u001b[0;34m\u001b[0m\u001b[0m\n",
            "\u001b[0;32m/usr/lib/python3.9/threading.py\u001b[0m in \u001b[0;36mwait\u001b[0;34m(self, timeout)\u001b[0m\n\u001b[1;32m    310\u001b[0m         \u001b[0;32mtry\u001b[0m\u001b[0;34m:\u001b[0m    \u001b[0;31m# restore state no matter what (e.g., KeyboardInterrupt)\u001b[0m\u001b[0;34m\u001b[0m\u001b[0;34m\u001b[0m\u001b[0m\n\u001b[1;32m    311\u001b[0m             \u001b[0;32mif\u001b[0m \u001b[0mtimeout\u001b[0m \u001b[0;32mis\u001b[0m \u001b[0;32mNone\u001b[0m\u001b[0;34m:\u001b[0m\u001b[0;34m\u001b[0m\u001b[0;34m\u001b[0m\u001b[0m\n\u001b[0;32m--> 312\u001b[0;31m                 \u001b[0mwaiter\u001b[0m\u001b[0;34m.\u001b[0m\u001b[0macquire\u001b[0m\u001b[0;34m(\u001b[0m\u001b[0;34m)\u001b[0m\u001b[0;34m\u001b[0m\u001b[0;34m\u001b[0m\u001b[0m\n\u001b[0m\u001b[1;32m    313\u001b[0m                 \u001b[0mgotit\u001b[0m \u001b[0;34m=\u001b[0m \u001b[0;32mTrue\u001b[0m\u001b[0;34m\u001b[0m\u001b[0;34m\u001b[0m\u001b[0m\n\u001b[1;32m    314\u001b[0m             \u001b[0;32melse\u001b[0m\u001b[0;34m:\u001b[0m\u001b[0;34m\u001b[0m\u001b[0;34m\u001b[0m\u001b[0m\n",
            "\u001b[0;31mKeyboardInterrupt\u001b[0m: "
          ]
        }
      ],
      "source": [
        "from sklearn import svm\n",
        "from sklearn.model_selection import RandomizedSearchCV\n",
        "\n",
        "svm_random_grid = {'C': [0.1, 1, 10, 100, 1000], \n",
        "                'gamma': [1, 0.1, 0.01, 0.001, 0.0001,'scale','auto'],\n",
        "                'kernel': ['rbf','linear','poly'],\n",
        "                'degree': [1, 3, 5],\n",
        "                'coef0': [0, 0.01, 0.5, 1]}\n",
        "\n",
        "# Define random search\n",
        "svm = svm.SVC()\n",
        "svm_search = RandomizedSearchCV(svm, svm_random_grid, n_iter=500, scoring='accuracy', n_jobs=-1, cv=5, random_state=0)\n",
        "\n",
        "# Fit grid search\n",
        "svm_search.fit(train_pca,y_train)\n",
        "\n",
        "# Best hyperparameters and their accuracy\n",
        "print('Best hyperparameters: ' + str(svm_search.best_params_))\n",
        "print('Best accuracy score: ' + str(svm_search.best_score_))"
      ]
    },
    {
      "cell_type": "markdown",
      "metadata": {
        "id": "H3mMeIklK7lf"
      },
      "source": [
        "### Random Forest (RF)\n",
        "\n",
        "In this subsection, random forest (RF) is performed on the train set. Hyperparameter tuning is performed using a \"random grid\" dictionary with values for n_estimators, max_depth, min_samples_split, min_samples_leaf and bootstrap. 500 iterations are performed within this random grid, the best hyperparameters are printed according to the accuracy. 5-fold cross-validation is applied."
      ]
    },
    {
      "cell_type": "code",
      "execution_count": null,
      "metadata": {
        "id": "3LxT_FO_K7lf"
      },
      "outputs": [],
      "source": [
        "from sklearn.model_selection import RandomizedSearchCV # randomised search function\n",
        "from sklearn.ensemble import RandomForestClassifier # random forest classifier\n",
        "\n",
        "# Create the random grid\n",
        "rf_random_grid = {'n_estimators': range(10,1001,10),\n",
        "                'max_depth': range(10,101,10),\n",
        "                'min_samples_split': range(2,11),\n",
        "                'min_samples_leaf': range(1,11),\n",
        "                }\n",
        "\n",
        "# Performing randomised search\n",
        "rf = RandomForestClassifier()\n",
        "rf_search = RandomizedSearchCV(rf, rf_random_grid, n_iter=500, scoring='accuracy', n_jobs=-1, cv=5, random_state=0)\n",
        "rf_search.fit(train_pca,y_train)\n",
        "\n",
        "\n",
        "# Best hyperparameters and their accuracy\n",
        "print('Best hyperparameters: ' + str(rf_search.best_params_))\n",
        "print('Best accuracy score: ' + str(rf_search.best_score_))"
      ]
    },
    {
      "cell_type": "markdown",
      "metadata": {
        "id": "LnS2T-DlK7lg"
      },
      "source": [
        "### Neural networks (NN)\n",
        "\n",
        "In this subsection, neural networks (NN) is performed on the train set. Hyperparameter tuning is performed using a \"random grid\" dictionary with values for hidden_layer_sizes, learning_rate_init, alpha, solver and early_stopping. 500 iterations are performed within this random grid, the best hyperparameters are printed according to the accuracy. 5-fold cross-validation is applied."
      ]
    },
    {
      "cell_type": "code",
      "execution_count": 22,
      "metadata": {
        "id": "qwhVj9vuK7lg",
        "outputId": "936c449a-4d6a-4786-fcf7-b9567d6dbc45",
        "colab": {
          "base_uri": "https://localhost:8080/",
          "height": 389
        }
      },
      "outputs": [
        {
          "output_type": "error",
          "ename": "KeyboardInterrupt",
          "evalue": "ignored",
          "traceback": [
            "\u001b[0;31m---------------------------------------------------------------------------\u001b[0m",
            "\u001b[0;31mKeyboardInterrupt\u001b[0m                         Traceback (most recent call last)",
            "\u001b[0;32m<ipython-input-22-cd3fd9d91a0b>\u001b[0m in \u001b[0;36m<cell line: 25>\u001b[0;34m()\u001b[0m\n\u001b[1;32m     23\u001b[0m \u001b[0mmlp\u001b[0m \u001b[0;34m=\u001b[0m \u001b[0mMLPClassifier\u001b[0m\u001b[0;34m(\u001b[0m\u001b[0;34m)\u001b[0m\u001b[0;34m\u001b[0m\u001b[0;34m\u001b[0m\u001b[0m\n\u001b[1;32m     24\u001b[0m \u001b[0mmlp_search\u001b[0m \u001b[0;34m=\u001b[0m \u001b[0mRandomizedSearchCV\u001b[0m\u001b[0;34m(\u001b[0m\u001b[0mmlp\u001b[0m\u001b[0;34m,\u001b[0m \u001b[0mmlp_random_grid\u001b[0m\u001b[0;34m,\u001b[0m \u001b[0mn_iter\u001b[0m\u001b[0;34m=\u001b[0m\u001b[0;36m500\u001b[0m\u001b[0;34m,\u001b[0m \u001b[0mscoring\u001b[0m\u001b[0;34m=\u001b[0m\u001b[0;34m'accuracy'\u001b[0m\u001b[0;34m,\u001b[0m \u001b[0mn_jobs\u001b[0m\u001b[0;34m=\u001b[0m\u001b[0;34m-\u001b[0m\u001b[0;36m1\u001b[0m\u001b[0;34m,\u001b[0m \u001b[0mcv\u001b[0m\u001b[0;34m=\u001b[0m\u001b[0;36m5\u001b[0m\u001b[0;34m,\u001b[0m\u001b[0mrandom_state\u001b[0m\u001b[0;34m=\u001b[0m\u001b[0;36m0\u001b[0m\u001b[0;34m)\u001b[0m\u001b[0;34m\u001b[0m\u001b[0;34m\u001b[0m\u001b[0m\n\u001b[0;32m---> 25\u001b[0;31m \u001b[0mmlp_search\u001b[0m\u001b[0;34m.\u001b[0m\u001b[0mfit\u001b[0m\u001b[0;34m(\u001b[0m\u001b[0mtrain_pca\u001b[0m\u001b[0;34m,\u001b[0m\u001b[0my_train\u001b[0m\u001b[0;34m)\u001b[0m\u001b[0;34m\u001b[0m\u001b[0;34m\u001b[0m\u001b[0m\n\u001b[0m\u001b[1;32m     26\u001b[0m \u001b[0;34m\u001b[0m\u001b[0m\n\u001b[1;32m     27\u001b[0m \u001b[0;31m# Best hyperparameters and their accuracy\u001b[0m\u001b[0;34m\u001b[0m\u001b[0;34m\u001b[0m\u001b[0m\n",
            "\u001b[0;32m/usr/local/lib/python3.9/dist-packages/sklearn/model_selection/_search.py\u001b[0m in \u001b[0;36mfit\u001b[0;34m(self, X, y, groups, **fit_params)\u001b[0m\n\u001b[1;32m    872\u001b[0m                 \u001b[0;32mreturn\u001b[0m \u001b[0mresults\u001b[0m\u001b[0;34m\u001b[0m\u001b[0;34m\u001b[0m\u001b[0m\n\u001b[1;32m    873\u001b[0m \u001b[0;34m\u001b[0m\u001b[0m\n\u001b[0;32m--> 874\u001b[0;31m             \u001b[0mself\u001b[0m\u001b[0;34m.\u001b[0m\u001b[0m_run_search\u001b[0m\u001b[0;34m(\u001b[0m\u001b[0mevaluate_candidates\u001b[0m\u001b[0;34m)\u001b[0m\u001b[0;34m\u001b[0m\u001b[0;34m\u001b[0m\u001b[0m\n\u001b[0m\u001b[1;32m    875\u001b[0m \u001b[0;34m\u001b[0m\u001b[0m\n\u001b[1;32m    876\u001b[0m             \u001b[0;31m# multimetric is determined here because in the case of a callable\u001b[0m\u001b[0;34m\u001b[0m\u001b[0;34m\u001b[0m\u001b[0m\n",
            "\u001b[0;32m/usr/local/lib/python3.9/dist-packages/sklearn/model_selection/_search.py\u001b[0m in \u001b[0;36m_run_search\u001b[0;34m(self, evaluate_candidates)\u001b[0m\n\u001b[1;32m   1766\u001b[0m     \u001b[0;32mdef\u001b[0m \u001b[0m_run_search\u001b[0m\u001b[0;34m(\u001b[0m\u001b[0mself\u001b[0m\u001b[0;34m,\u001b[0m \u001b[0mevaluate_candidates\u001b[0m\u001b[0;34m)\u001b[0m\u001b[0;34m:\u001b[0m\u001b[0;34m\u001b[0m\u001b[0;34m\u001b[0m\u001b[0m\n\u001b[1;32m   1767\u001b[0m         \u001b[0;34m\"\"\"Search n_iter candidates from param_distributions\"\"\"\u001b[0m\u001b[0;34m\u001b[0m\u001b[0;34m\u001b[0m\u001b[0m\n\u001b[0;32m-> 1768\u001b[0;31m         evaluate_candidates(\n\u001b[0m\u001b[1;32m   1769\u001b[0m             ParameterSampler(\n\u001b[1;32m   1770\u001b[0m                 \u001b[0mself\u001b[0m\u001b[0;34m.\u001b[0m\u001b[0mparam_distributions\u001b[0m\u001b[0;34m,\u001b[0m \u001b[0mself\u001b[0m\u001b[0;34m.\u001b[0m\u001b[0mn_iter\u001b[0m\u001b[0;34m,\u001b[0m \u001b[0mrandom_state\u001b[0m\u001b[0;34m=\u001b[0m\u001b[0mself\u001b[0m\u001b[0;34m.\u001b[0m\u001b[0mrandom_state\u001b[0m\u001b[0;34m\u001b[0m\u001b[0;34m\u001b[0m\u001b[0m\n",
            "\u001b[0;32m/usr/local/lib/python3.9/dist-packages/sklearn/model_selection/_search.py\u001b[0m in \u001b[0;36mevaluate_candidates\u001b[0;34m(candidate_params, cv, more_results)\u001b[0m\n\u001b[1;32m    819\u001b[0m                     )\n\u001b[1;32m    820\u001b[0m \u001b[0;34m\u001b[0m\u001b[0m\n\u001b[0;32m--> 821\u001b[0;31m                 out = parallel(\n\u001b[0m\u001b[1;32m    822\u001b[0m                     delayed(_fit_and_score)(\n\u001b[1;32m    823\u001b[0m                         \u001b[0mclone\u001b[0m\u001b[0;34m(\u001b[0m\u001b[0mbase_estimator\u001b[0m\u001b[0;34m)\u001b[0m\u001b[0;34m,\u001b[0m\u001b[0;34m\u001b[0m\u001b[0;34m\u001b[0m\u001b[0m\n",
            "\u001b[0;32m/usr/local/lib/python3.9/dist-packages/sklearn/utils/parallel.py\u001b[0m in \u001b[0;36m__call__\u001b[0;34m(self, iterable)\u001b[0m\n\u001b[1;32m     61\u001b[0m             \u001b[0;32mfor\u001b[0m \u001b[0mdelayed_func\u001b[0m\u001b[0;34m,\u001b[0m \u001b[0margs\u001b[0m\u001b[0;34m,\u001b[0m \u001b[0mkwargs\u001b[0m \u001b[0;32min\u001b[0m \u001b[0miterable\u001b[0m\u001b[0;34m\u001b[0m\u001b[0;34m\u001b[0m\u001b[0m\n\u001b[1;32m     62\u001b[0m         )\n\u001b[0;32m---> 63\u001b[0;31m         \u001b[0;32mreturn\u001b[0m \u001b[0msuper\u001b[0m\u001b[0;34m(\u001b[0m\u001b[0;34m)\u001b[0m\u001b[0;34m.\u001b[0m\u001b[0m__call__\u001b[0m\u001b[0;34m(\u001b[0m\u001b[0miterable_with_config\u001b[0m\u001b[0;34m)\u001b[0m\u001b[0;34m\u001b[0m\u001b[0;34m\u001b[0m\u001b[0m\n\u001b[0m\u001b[1;32m     64\u001b[0m \u001b[0;34m\u001b[0m\u001b[0m\n\u001b[1;32m     65\u001b[0m \u001b[0;34m\u001b[0m\u001b[0m\n",
            "\u001b[0;32m/usr/local/lib/python3.9/dist-packages/joblib/parallel.py\u001b[0m in \u001b[0;36m__call__\u001b[0;34m(self, iterable)\u001b[0m\n\u001b[1;32m   1096\u001b[0m \u001b[0;34m\u001b[0m\u001b[0m\n\u001b[1;32m   1097\u001b[0m             \u001b[0;32mwith\u001b[0m \u001b[0mself\u001b[0m\u001b[0;34m.\u001b[0m\u001b[0m_backend\u001b[0m\u001b[0;34m.\u001b[0m\u001b[0mretrieval_context\u001b[0m\u001b[0;34m(\u001b[0m\u001b[0;34m)\u001b[0m\u001b[0;34m:\u001b[0m\u001b[0;34m\u001b[0m\u001b[0;34m\u001b[0m\u001b[0m\n\u001b[0;32m-> 1098\u001b[0;31m                 \u001b[0mself\u001b[0m\u001b[0;34m.\u001b[0m\u001b[0mretrieve\u001b[0m\u001b[0;34m(\u001b[0m\u001b[0;34m)\u001b[0m\u001b[0;34m\u001b[0m\u001b[0;34m\u001b[0m\u001b[0m\n\u001b[0m\u001b[1;32m   1099\u001b[0m             \u001b[0;31m# Make sure that we get a last message telling us we are done\u001b[0m\u001b[0;34m\u001b[0m\u001b[0;34m\u001b[0m\u001b[0m\n\u001b[1;32m   1100\u001b[0m             \u001b[0melapsed_time\u001b[0m \u001b[0;34m=\u001b[0m \u001b[0mtime\u001b[0m\u001b[0;34m.\u001b[0m\u001b[0mtime\u001b[0m\u001b[0;34m(\u001b[0m\u001b[0;34m)\u001b[0m \u001b[0;34m-\u001b[0m \u001b[0mself\u001b[0m\u001b[0;34m.\u001b[0m\u001b[0m_start_time\u001b[0m\u001b[0;34m\u001b[0m\u001b[0;34m\u001b[0m\u001b[0m\n",
            "\u001b[0;32m/usr/local/lib/python3.9/dist-packages/joblib/parallel.py\u001b[0m in \u001b[0;36mretrieve\u001b[0;34m(self)\u001b[0m\n\u001b[1;32m    973\u001b[0m             \u001b[0;32mtry\u001b[0m\u001b[0;34m:\u001b[0m\u001b[0;34m\u001b[0m\u001b[0;34m\u001b[0m\u001b[0m\n\u001b[1;32m    974\u001b[0m                 \u001b[0;32mif\u001b[0m \u001b[0mgetattr\u001b[0m\u001b[0;34m(\u001b[0m\u001b[0mself\u001b[0m\u001b[0;34m.\u001b[0m\u001b[0m_backend\u001b[0m\u001b[0;34m,\u001b[0m \u001b[0;34m'supports_timeout'\u001b[0m\u001b[0;34m,\u001b[0m \u001b[0;32mFalse\u001b[0m\u001b[0;34m)\u001b[0m\u001b[0;34m:\u001b[0m\u001b[0;34m\u001b[0m\u001b[0;34m\u001b[0m\u001b[0m\n\u001b[0;32m--> 975\u001b[0;31m                     \u001b[0mself\u001b[0m\u001b[0;34m.\u001b[0m\u001b[0m_output\u001b[0m\u001b[0;34m.\u001b[0m\u001b[0mextend\u001b[0m\u001b[0;34m(\u001b[0m\u001b[0mjob\u001b[0m\u001b[0;34m.\u001b[0m\u001b[0mget\u001b[0m\u001b[0;34m(\u001b[0m\u001b[0mtimeout\u001b[0m\u001b[0;34m=\u001b[0m\u001b[0mself\u001b[0m\u001b[0;34m.\u001b[0m\u001b[0mtimeout\u001b[0m\u001b[0;34m)\u001b[0m\u001b[0;34m)\u001b[0m\u001b[0;34m\u001b[0m\u001b[0;34m\u001b[0m\u001b[0m\n\u001b[0m\u001b[1;32m    976\u001b[0m                 \u001b[0;32melse\u001b[0m\u001b[0;34m:\u001b[0m\u001b[0;34m\u001b[0m\u001b[0;34m\u001b[0m\u001b[0m\n\u001b[1;32m    977\u001b[0m                     \u001b[0mself\u001b[0m\u001b[0;34m.\u001b[0m\u001b[0m_output\u001b[0m\u001b[0;34m.\u001b[0m\u001b[0mextend\u001b[0m\u001b[0;34m(\u001b[0m\u001b[0mjob\u001b[0m\u001b[0;34m.\u001b[0m\u001b[0mget\u001b[0m\u001b[0;34m(\u001b[0m\u001b[0;34m)\u001b[0m\u001b[0;34m)\u001b[0m\u001b[0;34m\u001b[0m\u001b[0;34m\u001b[0m\u001b[0m\n",
            "\u001b[0;32m/usr/local/lib/python3.9/dist-packages/joblib/_parallel_backends.py\u001b[0m in \u001b[0;36mwrap_future_result\u001b[0;34m(future, timeout)\u001b[0m\n\u001b[1;32m    565\u001b[0m         AsyncResults.get from multiprocessing.\"\"\"\n\u001b[1;32m    566\u001b[0m         \u001b[0;32mtry\u001b[0m\u001b[0;34m:\u001b[0m\u001b[0;34m\u001b[0m\u001b[0;34m\u001b[0m\u001b[0m\n\u001b[0;32m--> 567\u001b[0;31m             \u001b[0;32mreturn\u001b[0m \u001b[0mfuture\u001b[0m\u001b[0;34m.\u001b[0m\u001b[0mresult\u001b[0m\u001b[0;34m(\u001b[0m\u001b[0mtimeout\u001b[0m\u001b[0;34m=\u001b[0m\u001b[0mtimeout\u001b[0m\u001b[0;34m)\u001b[0m\u001b[0;34m\u001b[0m\u001b[0;34m\u001b[0m\u001b[0m\n\u001b[0m\u001b[1;32m    568\u001b[0m         \u001b[0;32mexcept\u001b[0m \u001b[0mCfTimeoutError\u001b[0m \u001b[0;32mas\u001b[0m \u001b[0me\u001b[0m\u001b[0;34m:\u001b[0m\u001b[0;34m\u001b[0m\u001b[0;34m\u001b[0m\u001b[0m\n\u001b[1;32m    569\u001b[0m             \u001b[0;32mraise\u001b[0m \u001b[0mTimeoutError\u001b[0m \u001b[0;32mfrom\u001b[0m \u001b[0me\u001b[0m\u001b[0;34m\u001b[0m\u001b[0;34m\u001b[0m\u001b[0m\n",
            "\u001b[0;32m/usr/lib/python3.9/concurrent/futures/_base.py\u001b[0m in \u001b[0;36mresult\u001b[0;34m(self, timeout)\u001b[0m\n\u001b[1;32m    439\u001b[0m                     \u001b[0;32mreturn\u001b[0m \u001b[0mself\u001b[0m\u001b[0;34m.\u001b[0m\u001b[0m__get_result\u001b[0m\u001b[0;34m(\u001b[0m\u001b[0;34m)\u001b[0m\u001b[0;34m\u001b[0m\u001b[0;34m\u001b[0m\u001b[0m\n\u001b[1;32m    440\u001b[0m \u001b[0;34m\u001b[0m\u001b[0m\n\u001b[0;32m--> 441\u001b[0;31m                 \u001b[0mself\u001b[0m\u001b[0;34m.\u001b[0m\u001b[0m_condition\u001b[0m\u001b[0;34m.\u001b[0m\u001b[0mwait\u001b[0m\u001b[0;34m(\u001b[0m\u001b[0mtimeout\u001b[0m\u001b[0;34m)\u001b[0m\u001b[0;34m\u001b[0m\u001b[0;34m\u001b[0m\u001b[0m\n\u001b[0m\u001b[1;32m    442\u001b[0m \u001b[0;34m\u001b[0m\u001b[0m\n\u001b[1;32m    443\u001b[0m                 \u001b[0;32mif\u001b[0m \u001b[0mself\u001b[0m\u001b[0;34m.\u001b[0m\u001b[0m_state\u001b[0m \u001b[0;32min\u001b[0m \u001b[0;34m[\u001b[0m\u001b[0mCANCELLED\u001b[0m\u001b[0;34m,\u001b[0m \u001b[0mCANCELLED_AND_NOTIFIED\u001b[0m\u001b[0;34m]\u001b[0m\u001b[0;34m:\u001b[0m\u001b[0;34m\u001b[0m\u001b[0;34m\u001b[0m\u001b[0m\n",
            "\u001b[0;32m/usr/lib/python3.9/threading.py\u001b[0m in \u001b[0;36mwait\u001b[0;34m(self, timeout)\u001b[0m\n\u001b[1;32m    310\u001b[0m         \u001b[0;32mtry\u001b[0m\u001b[0;34m:\u001b[0m    \u001b[0;31m# restore state no matter what (e.g., KeyboardInterrupt)\u001b[0m\u001b[0;34m\u001b[0m\u001b[0;34m\u001b[0m\u001b[0m\n\u001b[1;32m    311\u001b[0m             \u001b[0;32mif\u001b[0m \u001b[0mtimeout\u001b[0m \u001b[0;32mis\u001b[0m \u001b[0;32mNone\u001b[0m\u001b[0;34m:\u001b[0m\u001b[0;34m\u001b[0m\u001b[0;34m\u001b[0m\u001b[0m\n\u001b[0;32m--> 312\u001b[0;31m                 \u001b[0mwaiter\u001b[0m\u001b[0;34m.\u001b[0m\u001b[0macquire\u001b[0m\u001b[0;34m(\u001b[0m\u001b[0;34m)\u001b[0m\u001b[0;34m\u001b[0m\u001b[0;34m\u001b[0m\u001b[0m\n\u001b[0m\u001b[1;32m    313\u001b[0m                 \u001b[0mgotit\u001b[0m \u001b[0;34m=\u001b[0m \u001b[0;32mTrue\u001b[0m\u001b[0;34m\u001b[0m\u001b[0;34m\u001b[0m\u001b[0m\n\u001b[1;32m    314\u001b[0m             \u001b[0;32melse\u001b[0m\u001b[0;34m:\u001b[0m\u001b[0;34m\u001b[0m\u001b[0;34m\u001b[0m\u001b[0m\n",
            "\u001b[0;31mKeyboardInterrupt\u001b[0m: "
          ]
        }
      ],
      "source": [
        "from sklearn.neural_network import MLPClassifier\n",
        "from sklearn.model_selection import RandomizedSearchCV\n",
        "from warnings import simplefilter\n",
        "from sklearn.exceptions import ConvergenceWarning\n",
        "simplefilter(\"ignore\", category=ConvergenceWarning) # ignores convergence warnings\n",
        "\n",
        "# Create the hidden layer size variable\n",
        "hidden_layer_size = []\n",
        "\n",
        "for a in range(5,100,10):\n",
        "    for b in range(5,100,10):\n",
        "        hidden_layer_size.append((a,b))\n",
        "\n",
        "# Create the random grid\n",
        "mlp_random_grid = {'hidden_layer_sizes': hidden_layer_size,\n",
        "                   'activation': ['identity', 'logistic', 'tanh', 'relu'],\n",
        "                   'solver': ['lbfgs', 'sgd','adam'],\n",
        "                   'alpha': [0.000001, 0.00001, 0.0001, 0.001, 0.01],\n",
        "                   'learning_rate': ['constant', 'invscaling','adaptive'],\n",
        "                   'max_iter': range(100,1001,100)         \n",
        "               }\n",
        "# Performing randomised search\n",
        "mlp = MLPClassifier()\n",
        "mlp_search = RandomizedSearchCV(mlp, mlp_random_grid, n_iter=500, scoring='accuracy', n_jobs=-1, cv=5,random_state=0)\n",
        "mlp_search.fit(train_pca,y_train)\n",
        "\n",
        "# Best hyperparameters and their accuracy\n",
        "print('Best hyperparameters: ' + str(mlp_search.best_params_))\n",
        "print('Best accuracy score: ' + str(mlp_search.best_score_))"
      ]
    },
    {
      "cell_type": "markdown",
      "metadata": {
        "id": "5TJjgzl0K7lh"
      },
      "source": [
        "## Performance\n",
        "\n",
        "For each classifier, the accuracy, f1 value, recall/sensitivity and precision are calculated in a five-fold crossvalidation of the train set. "
      ]
    },
    {
      "cell_type": "markdown",
      "metadata": {
        "id": "QHAXLRtvK7lh"
      },
      "source": [
        "### Support vector machine"
      ]
    },
    {
      "cell_type": "code",
      "execution_count": 16,
      "metadata": {
        "id": "zVt7xZw7K7lh"
      },
      "outputs": [],
      "source": [
        "from sklearn import svm # support vector classifier\n",
        "from sklearn.model_selection import cross_val_score\n",
        "\n",
        "# Support vector machine with best hyperparameters\n",
        "svm_model = svm.SVC(kernel='poly', gamma=0.01, degree=3, coef0=0.01, C=0.1, random_state=0)\n",
        "\n",
        "# Perform 5-fold cross-validation and calculate metrics for each fold\n",
        "svm_accuracy_scores = cross_val_score(svm_model, train_pca, y_train, cv=5, scoring='accuracy')\n",
        "svm_f1_scores = cross_val_score(svm_model, train_pca, y_train, cv=5, scoring='f1_macro')\n",
        "svm_recall_scores = cross_val_score(svm_model, train_pca, y_train, cv=5, scoring='recall_macro')\n",
        "svm_precision_scores = cross_val_score(svm_model, train_pca, y_train, cv=5, scoring='precision_macro')"
      ]
    },
    {
      "cell_type": "markdown",
      "metadata": {
        "id": "EvoV66A3K7li"
      },
      "source": [
        "### Random forest"
      ]
    },
    {
      "cell_type": "code",
      "execution_count": 17,
      "metadata": {
        "id": "gJseM2KVK7li"
      },
      "outputs": [],
      "source": [
        "from sklearn.ensemble import RandomForestClassifier # random forest classifier\n",
        "from sklearn.model_selection import cross_val_score\n",
        "\n",
        "# Random forest with best hyperparameters\n",
        "rf_model = RandomForestClassifier(n_estimators=940,max_depth=10,min_samples_split=2,min_samples_leaf=1,random_state=0)\n",
        "\n",
        "# Perform 5-fold cross-validation and calculate metrics for each fold\n",
        "rf_accuracy_scores = cross_val_score(rf_model, train_pca, y_train, cv=5, scoring='accuracy')\n",
        "rf_f1_scores = cross_val_score(rf_model, train_pca, y_train, cv=5, scoring='f1_macro')\n",
        "rf_recall_scores = cross_val_score(rf_model, train_pca, y_train, cv=5, scoring='recall_macro')\n",
        "rf_precision_scores = cross_val_score(rf_model, train_pca, y_train, cv=5, scoring='precision_macro')"
      ]
    },
    {
      "cell_type": "markdown",
      "metadata": {
        "id": "s4_pqjH_K7li"
      },
      "source": [
        "### Neural networks"
      ]
    },
    {
      "cell_type": "code",
      "execution_count": 18,
      "metadata": {
        "id": "HBDEf0J9K7li"
      },
      "outputs": [],
      "source": [
        "from sklearn.neural_network import MLPClassifier # multilayer perceptron classifier\n",
        "from sklearn.model_selection import cross_val_score\n",
        "from warnings import simplefilter\n",
        "from sklearn.exceptions import ConvergenceWarning\n",
        "simplefilter(\"ignore\", category=ConvergenceWarning) # ignore convergence warnings\n",
        "\n",
        "# Neural networks with best hyperparameters\n",
        "mlp_model = MLPClassifier(solver='adam',max_iter=600,learning_rate='constant',hidden_layer_sizes=(15,95),alpha=0.01,activation='logistic',random_state=0)\n",
        "\n",
        "# Perform 5-fold cross-validation and calculate metrics for each fold\n",
        "mlp_accuracy_scores = cross_val_score(mlp_model, train_pca, y_train, cv=5, scoring='accuracy')\n",
        "mlp_f1_scores = cross_val_score(mlp_model, train_pca, y_train, cv=5, scoring='f1_macro')\n",
        "mlp_recall_scores = cross_val_score(mlp_model, train_pca, y_train, cv=5, scoring='recall_macro')\n",
        "mlp_precision_scores = cross_val_score(mlp_model, train_pca, y_train, cv=5, scoring='precision_macro')"
      ]
    },
    {
      "cell_type": "markdown",
      "metadata": {
        "id": "-TULSKOMK7lj"
      },
      "source": [
        "### Table with scores\n",
        "\n",
        "All values are put in one table for easy comparison."
      ]
    },
    {
      "cell_type": "code",
      "execution_count": 19,
      "metadata": {
        "id": "g5IKfjlmK7lj",
        "outputId": "b1bf50e8-c302-4e17-c89c-4aad566c3b72",
        "colab": {
          "base_uri": "https://localhost:8080/"
        }
      },
      "outputs": [
        {
          "output_type": "stream",
          "name": "stdout",
          "text": [
            "             SVM                 RF                  NN\n",
            "-----------  ------------------  ------------------  ------------------\n",
            "Accuracy     62.27% (+/- 6.98%)  59.74% (+/- 5.94%)  51.55% (+/- 6.08%)\n",
            "F1-score     59.55% (+/- 8.20%)  58.61% (+/- 6.18%)  50.67% (+/- 6.83%)\n",
            "Precision    63.17% (+/- 6.76%)  60.16% (+/- 6.49%)  50.80% (+/- 6.78%)\n",
            "Sensitivity  61.15% (+/- 7.23%)  59.28% (+/- 6.12%)  51.03% (+/- 6.35%)\n"
          ]
        }
      ],
      "source": [
        "from tabulate import tabulate\n",
        "from numpy import mean\n",
        "from numpy import std\n",
        "\n",
        "# Generate table with performance of all classifiers\n",
        "table = [['Accuracy', '%.2f%% (+/- %.2f%%)' % (mean(svm_accuracy_scores)*100, std(svm_accuracy_scores)*100), \n",
        "          '%.2f%% (+/- %.2f%%)' % (mean(rf_accuracy_scores)*100, std(rf_accuracy_scores)*100),\n",
        "          '%.2f%% (+/- %.2f%%)' % (mean(mlp_accuracy_scores)*100, std(mlp_accuracy_scores)*100)],\n",
        "          ['F1-score', \n",
        "           '%.2f%% (+/- %.2f%%)' % (mean(svm_f1_scores)*100, std(svm_f1_scores)*100),\n",
        "           '%.2f%% (+/- %.2f%%)' % (mean(rf_f1_scores)*100, std(rf_f1_scores)*100), \n",
        "           '%.2f%% (+/- %.2f%%)' % (mean(mlp_f1_scores)*100, std(mlp_f1_scores)*100)], \n",
        "           ['Precision', \n",
        "            '%.2f%% (+/- %.2f%%)' % (mean(svm_precision_scores)*100, std(svm_precision_scores)*100), \n",
        "            '%.2f%% (+/- %.2f%%)' % (mean(rf_precision_scores)*100, std(rf_precision_scores)*100), \n",
        "            '%.2f%% (+/- %.2f%%)' % (mean(mlp_precision_scores)*100, std(mlp_precision_scores)*100)],\n",
        "            ['Sensitivity', \n",
        "             '%.2f%% (+/- %.2f%%)' % (mean(svm_recall_scores)*100, std(svm_recall_scores)*100), \n",
        "             '%.2f%% (+/- %.2f%%)' % (mean(rf_recall_scores)*100, std(rf_recall_scores)*100), \n",
        "             '%.2f%% (+/- %.2f%%)' % (mean(mlp_recall_scores)*100, std(mlp_recall_scores)*100)]]\n",
        "print(tabulate(table,headers=['SVM','RF','NN']))"
      ]
    },
    {
      "cell_type": "markdown",
      "metadata": {
        "id": "BR61RPd7K7lj"
      },
      "source": [
        "### Test scores\n",
        "For the chosen classifier (support vector machine) the scores on the test set are calculated and the ROC is plotted."
      ]
    },
    {
      "cell_type": "code",
      "execution_count": 21,
      "metadata": {
        "id": "9irOF6KFK7lk",
        "outputId": "35c07e10-dfcb-492f-c2ad-cef4acbd3f98",
        "colab": {
          "base_uri": "https://localhost:8080/",
          "height": 538
        }
      },
      "outputs": [
        {
          "output_type": "stream",
          "name": "stdout",
          "text": [
            "Accuracy score on the test set: 0.6\n",
            "F1-score score on the test set: 0.63\n",
            "Precision score on the test set: 0.52\n",
            "Sensitivity score on the test set: 0.81\n",
            "Specificity score on the test set: 0.45\n"
          ]
        },
        {
          "output_type": "display_data",
          "data": {
            "text/plain": [
              "<Figure size 640x480 with 1 Axes>"
            ],
            "image/png": "[encoded data removed]"
          },
          "metadata": {}
        }
      ],
      "source": [
        "from sklearn.metrics import accuracy_score\n",
        "from sklearn.metrics import f1_score\n",
        "from sklearn.metrics import precision_score\n",
        "from sklearn.metrics import confusion_matrix\n",
        "from sklearn.metrics import RocCurveDisplay\n",
        "import matplotlib.pyplot as plt\n",
        "\n",
        "rf_model.fit(train_pca,y_train)\n",
        "rf_prediction = rf_model.predict(test_pca)\n",
        "rf_accuracy = round(accuracy_score(y_test, rf_prediction), 2)\n",
        "print('Accuracy score on the test set: ' + str(rf_accuracy))\n",
        "rf_f1 = round(f1_score(y_test, rf_prediction, pos_label='GIST'),2)\n",
        "print('F1-score score on the test set: ' + str(rf_f1))\n",
        "rf_precision = round(precision_score(y_test, rf_prediction, pos_label='GIST'),2)\n",
        "print('Precision score on the test set: ' +str(rf_precision))\n",
        "\n",
        "tp, fn, fp, tn = confusion_matrix(y_test,rf_prediction).ravel()\n",
        "rf_sens = round(tp/(tp+fn),2)\n",
        "print('Sensitivity score on the test set: ' +str(rf_sens))\n",
        "rf_spec = round(tn/(tn+fp),2)\n",
        "print('Specificity score on the test set: ' +str(rf_spec))\n",
        "\n",
        "ax = plt.gca()\n",
        "rf_roc = RocCurveDisplay.from_estimator(rf_model, test_pca, y_test, ax=ax, alpha=0.8,pos_label='GIST')"
      ]
    }
  ],
  "metadata": {
    "colab": {
      "provenance": [],
      "include_colab_link": true
    },
    "kernelspec": {
      "display_name": "base",
      "language": "python",
      "name": "python3"
    },
    "language_info": {
      "codemirror_mode": {
        "name": "ipython",
        "version": 3
      },
      "file_extension": ".py",
      "mimetype": "text/x-python",
      "name": "python",
      "nbconvert_exporter": "python",
      "pygments_lexer": "ipython3",
      "version": "3.8.16"
    },
    "vscode": {
      "interpreter": {
        "hash": "9cea0b2ba1d4e863dfb586909f3baf8988d507bc1f42173fc816b8e84176b62f"
      }
    },
    "accelerator": "GPU",
    "gpuClass": "standard"
  },
  "nbformat": 4,
  "nbformat_minor": 0
}